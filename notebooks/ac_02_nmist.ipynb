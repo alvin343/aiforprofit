{
  "cells": [
    {
      "cell_type": "markdown",
      "metadata": {
        "id": "view-in-github",
        "colab_type": "text"
      },
      "source": [
        "<a href=\"https://colab.research.google.com/github/ychoi-kr/aiforprofit/blob/main/notebooks/ac_02_nmist.ipynb\" target=\"_parent\"><img src=\"https://colab.research.google.com/assets/colab-badge.svg\" alt=\"Open In Colab\"/></a>"
      ]
    },
    {
      "cell_type": "markdown",
      "metadata": {
        "id": "P-ZLwez7358S"
      },
      "source": [
        "## 추가 사례 2: 이미지 판별하기(다중 분류)"
      ]
    },
    {
      "cell_type": "markdown",
      "metadata": {
        "id": "E-kp2zmPIqpa"
      },
      "source": [
        "### 공통 전처리"
      ]
    },
    {
      "cell_type": "code",
      "execution_count": 1,
      "metadata": {
        "id": "XLyizEG83ykk"
      },
      "outputs": [],
      "source": [
        "# 공통 처리\n",
        "\n",
        "# 불필요한 경고 메시지 무시\n",
        "import warnings\n",
        "warnings.filterwarnings('ignore')\n",
        "\n",
        "# 라이브러리 임포트\n",
        "import pandas as pd\n",
        "import numpy as np\n",
        "import matplotlib.pyplot as plt\n",
        "\n",
        "# 한글 글꼴 설정\n",
        "import platform\n",
        "\n",
        "if platform.system() == 'Windows':\n",
        "    plt.rc('font', family='Malgun Gothic')\n",
        "elif platform.system() == 'Darwin':\n",
        "    plt.rc('font', family='Apple Gothic')\n",
        "\n",
        "# 데이터프레임 출력용 함수\n",
        "from IPython.display import display\n",
        "\n",
        "# 숫자 출력 조정\n",
        "# 넘파이 부동소수점 출력 자리수 설정\n",
        "np.set_printoptions(suppress=True, precision=4)\n",
        "\n",
        "# 판다스 부동소수점 출력 자리수 설정\n",
        "pd.options.display.float_format = '{:.4f}'.format\n",
        "\n",
        "# 데이터프레임 모든 필드 출력\n",
        "pd.set_option(\"display.max_columns\",None)\n",
        "\n",
        "# 그래프 글꼴 크기 설정\n",
        "plt.rcParams[\"font.size\"] = 14\n",
        "\n",
        "# 난수 시드\n",
        "random_seed = 123"
      ]
    },
    {
      "cell_type": "code",
      "execution_count": 2,
      "metadata": {
        "id": "Bud8JoRBMWiI"
      },
      "outputs": [],
      "source": [
        "# 혼동행렬 출력용 함수\n",
        "\n",
        "def make_cm(matrix, columns):\n",
        "    # matrix : 넘파이 배열\n",
        "    # columns : 필드명 리스트\n",
        "    n = len(columns)\n",
        "    \n",
        "    # '정답 데이터'를 n번 반복해 연접한 리스트\n",
        "    act = ['정답데이터'] * n\n",
        "    pred = ['예측결과'] * n\n",
        "    \n",
        "    # 데이터프레임 생성\n",
        "    cm = pd.DataFrame(matrix, \n",
        "        columns=[pred, columns], index=[act, columns])\n",
        "    return cm"
      ]
    },
    {
      "cell_type": "markdown",
      "metadata": {
        "id": "oAwARZnoIqpc"
      },
      "source": [
        "### A2.4 데이터 읽어 들이기부터 데이터 확인까지"
      ]
    },
    {
      "cell_type": "markdown",
      "metadata": {
        "id": "kJFUjT71Dr8r"
      },
      "source": [
        "#### 데이터 읽어 들이기"
      ]
    },
    {
      "cell_type": "code",
      "execution_count": 3,
      "metadata": {
        "id": "mH4Gl5x84Abb"
      },
      "outputs": [],
      "source": [
        "# 데이터 읽어 들이기\n",
        "\n",
        "# 숫자 손글씨 데이터\n",
        "# 시간이 상당히 걸리므로 주의할 것\n",
        "from sklearn.datasets import fetch_openml\n",
        "mnist = fetch_openml('mnist_784', version=1,)"
      ]
    },
    {
      "cell_type": "code",
      "execution_count": 4,
      "metadata": {
        "id": "f4W_1jbmBMaT"
      },
      "outputs": [],
      "source": [
        "# 이미지 데이터\n",
        "image = mnist.data.values\n",
        "\n",
        "# 정답 데이터\n",
        "label = mnist.target\n",
        "\n",
        "# 문자열을 숫자값으로 변환\n",
        "y = label.astype(np.int)"
      ]
    },
    {
      "cell_type": "code",
      "execution_count": 5,
      "metadata": {
        "colab": {
          "base_uri": "https://localhost:8080/"
        },
        "id": "qi5-KRrarDb0",
        "outputId": "ce600485-51ef-45cb-d621-f65739c5032b"
      },
      "outputs": [
        {
          "output_type": "stream",
          "name": "stdout",
          "text": [
            "**Author**: Yann LeCun, Corinna Cortes, Christopher J.C. Burges  \n",
            "**Source**: [MNIST Website](http://yann.lecun.com/exdb/mnist/) - Date unknown  \n",
            "**Please cite**:  \n",
            "\n",
            "The MNIST database of handwritten digits with 784 features, raw data available at: http://yann.lecun.com/exdb/mnist/. It can be split in a training set of the first 60,000 examples, and a test set of 10,000 examples  \n",
            "\n",
            "It is a subset of a larger set available from NIST. The digits have been size-normalized and centered in a fixed-size image. It is a good database for people who want to try learning techniques and pattern recognition methods on real-world data while spending minimal efforts on preprocessing and formatting. The original black and white (bilevel) images from NIST were size normalized to fit in a 20x20 pixel box while preserving their aspect ratio. The resulting images contain grey levels as a result of the anti-aliasing technique used by the normalization algorithm. the images were centered in a 28x28 image by computing the center of mass of the pixels, and translating the image so as to position this point at the center of the 28x28 field.  \n",
            "\n",
            "With some classification methods (particularly template-based methods, such as SVM and K-nearest neighbors), the error rate improves when the digits are centered by bounding box rather than center of mass. If you do this kind of pre-processing, you should report it in your publications. The MNIST database was constructed from NIST's NIST originally designated SD-3 as their training set and SD-1 as their test set. However, SD-3 is much cleaner and easier to recognize than SD-1. The reason for this can be found on the fact that SD-3 was collected among Census Bureau employees, while SD-1 was collected among high-school students. Drawing sensible conclusions from learning experiments requires that the result be independent of the choice of training set and test among the complete set of samples. Therefore it was necessary to build a new database by mixing NIST's datasets.  \n",
            "\n",
            "The MNIST training set is composed of 30,000 patterns from SD-3 and 30,000 patterns from SD-1. Our test set was composed of 5,000 patterns from SD-3 and 5,000 patterns from SD-1. The 60,000 pattern training set contained examples from approximately 250 writers. We made sure that the sets of writers of the training set and test set were disjoint. SD-1 contains 58,527 digit images written by 500 different writers. In contrast to SD-3, where blocks of data from each writer appeared in sequence, the data in SD-1 is scrambled. Writer identities for SD-1 is available and we used this information to unscramble the writers. We then split SD-1 in two: characters written by the first 250 writers went into our new training set. The remaining 250 writers were placed in our test set. Thus we had two sets with nearly 30,000 examples each. The new training set was completed with enough examples from SD-3, starting at pattern # 0, to make a full set of 60,000 training patterns. Similarly, the new test set was completed with SD-3 examples starting at pattern # 35,000 to make a full set with 60,000 test patterns. Only a subset of 10,000 test images (5,000 from SD-1 and 5,000 from SD-3) is available on this site. The full 60,000 sample training set is available.\n",
            "\n",
            "Downloaded from openml.org.\n"
          ]
        }
      ],
      "source": [
        "# 데이터 상세 정보 확인\n",
        "\n",
        "print(mnist.DESCR)"
      ]
    },
    {
      "cell_type": "markdown",
      "metadata": {
        "id": "Y5U8-HznD6X7"
      },
      "source": [
        "#### 데이터 확인"
      ]
    },
    {
      "cell_type": "code",
      "execution_count": 6,
      "metadata": {
        "colab": {
          "base_uri": "https://localhost:8080/"
        },
        "id": "PBf_SB-H6Ttf",
        "outputId": "a97a3539-3459-4a48-97de-d6ca850c0fc0"
      },
      "outputs": [
        {
          "output_type": "stream",
          "name": "stdout",
          "text": [
            "이미지 데이터 건수: (70000, 784)\n",
            "정답 데이터 건수: (70000,)\n"
          ]
        }
      ],
      "source": [
        "# 배열의 크기 확인\n",
        "print(\"이미지 데이터 건수:\", image.shape)\n",
        "print(\"정답 데이터 건수:\", y.shape)"
      ]
    },
    {
      "cell_type": "code",
      "execution_count": 7,
      "metadata": {
        "colab": {
          "base_uri": "https://localhost:8080/"
        },
        "id": "SaNn5rMcrDcA",
        "outputId": "620296b7-1336-4d5b-f875-62a8ff1d86ef"
      },
      "outputs": [
        {
          "output_type": "stream",
          "name": "stdout",
          "text": [
            "0    5\n",
            "1    0\n",
            "2    4\n",
            "3    1\n",
            "4    9\n",
            "5    2\n",
            "6    1\n",
            "7    3\n",
            "8    1\n",
            "9    4\n",
            "Name: class, dtype: category\n",
            "Categories (10, object): ['0', '1', '2', '3', ..., '6', '7', '8', '9']\n",
            "0    5\n",
            "1    0\n",
            "2    4\n",
            "3    1\n",
            "4    9\n",
            "5    2\n",
            "6    1\n",
            "7    3\n",
            "8    1\n",
            "9    4\n",
            "Name: class, dtype: int64\n"
          ]
        }
      ],
      "source": [
        "# 레이블과 숫자값 레이블 확인\n",
        "print(label[:10])\n",
        "print(y[:10])"
      ]
    },
    {
      "cell_type": "code",
      "execution_count": 8,
      "metadata": {
        "colab": {
          "base_uri": "https://localhost:8080/",
          "height": 205
        },
        "id": "nPwYn1RP6_d_",
        "outputId": "510274c7-3cef-4f4e-cd7b-bb0b70b18943"
      },
      "outputs": [
        {
          "output_type": "display_data",
          "data": {
            "text/plain": [
              "<Figure size 720x216 with 20 Axes>"
            ],
            "image/png": "[encoded data removed]"
          },
          "metadata": {}
        }
      ],
      "source": [
        "# 검증 데이터의 처음 20건 이미지를 출력\n",
        "\n",
        "# 이미지 사이즈 지정\n",
        "plt.figure(figsize=(10, 3))\n",
        "\n",
        "# 이미지 20건을 화면에 출력\n",
        "for i in range(20): \n",
        "    \n",
        "    # i번째 ax객체에 접근\n",
        "    ax = plt.subplot(2, 10, i+1)\n",
        "    \n",
        "    # i번째 이미지 데이터에 접근\n",
        "    img = image[60000 + i].reshape(28,28)\n",
        "    \n",
        "    # img를 이미지로 출력\n",
        "    ax.imshow(img, cmap='gray_r')\n",
        "    \n",
        "    # 정답 데이터를 이미지의 타이틀로 출력\n",
        "    ax.set_title(label[60000+i])\n",
        "    \n",
        "    # x, y눈금 숨김\n",
        "    ax.set_xticks([])\n",
        "    ax.set_yticks([])\n",
        "    \n",
        "# 이미지 간 간격 설정\n",
        "plt.tight_layout()\n",
        "\n",
        "# 화면 출력\n",
        "plt.show() "
      ]
    },
    {
      "cell_type": "markdown",
      "metadata": {
        "id": "LwtgAHW6Iqpg"
      },
      "source": [
        "### A2.5 데이터 전처리 및 데이터 분할"
      ]
    },
    {
      "cell_type": "markdown",
      "metadata": {
        "id": "RqbRUIe7E84L"
      },
      "source": [
        "#### 데이터 전처리"
      ]
    },
    {
      "cell_type": "code",
      "execution_count": 9,
      "metadata": {
        "colab": {
          "base_uri": "https://localhost:8080/"
        },
        "id": "5QUR_-xcrDcI",
        "outputId": "7917d4cc-6d9b-4793-8ba6-7475f9f0a5d1"
      },
      "outputs": [
        {
          "output_type": "stream",
          "name": "stdout",
          "text": [
            "[  0.  30.  36.  94. 154. 170. 253. 253. 253. 253.]\n"
          ]
        }
      ],
      "source": [
        "# 전처리 전\n",
        "\n",
        "# (처음 부분이 모두 0이어서 0이 아닌 부분을 골라 출력함)\n",
        "print(image[0][175:185])"
      ]
    },
    {
      "cell_type": "code",
      "execution_count": 10,
      "metadata": {
        "id": "5hji2JZaFiGW"
      },
      "outputs": [],
      "source": [
        "# 정규화(normalization)\n",
        "\n",
        "# 필드값의 [0, 1] 구간의 값이 되도록 함\n",
        "# 넘파이 브로드캐스트 기능을 사용했다\n",
        "x = image / 255.0"
      ]
    },
    {
      "cell_type": "code",
      "execution_count": 11,
      "metadata": {
        "colab": {
          "base_uri": "https://localhost:8080/"
        },
        "id": "E0F28CiMFXuJ",
        "outputId": "2ecd74d9-1d9e-4511-93fa-3cb47a021265"
      },
      "outputs": [
        {
          "output_type": "stream",
          "name": "stdout",
          "text": [
            "[0.     0.1176 0.1412 0.3686 0.6039 0.6667 0.9922 0.9922 0.9922 0.9922]\n"
          ]
        }
      ],
      "source": [
        "# 결과 확인\n",
        "\n",
        "#print(x[0,175:185])\n",
        "print(x[0][175:185])"
      ]
    },
    {
      "cell_type": "markdown",
      "metadata": {
        "id": "0_HQAH0aCGEd"
      },
      "source": [
        "#### 데이터 분할"
      ]
    },
    {
      "cell_type": "code",
      "execution_count": 12,
      "metadata": {
        "id": "R1TnzuPUCCx5"
      },
      "outputs": [],
      "source": [
        "# 학습 데이터와 검증 데이터를 분할\n",
        "# 미리 무작위로 순서가 섞였으므로, \n",
        "# 처음 60000건을 그대로 학습 데이터로 사용한다.\n",
        "x_train = x[:60000,:]\n",
        "x_test = x[60000:,:]\n",
        "y_train = y[:60000]\n",
        "y_test = y[60000:]"
      ]
    },
    {
      "cell_type": "code",
      "execution_count": 13,
      "metadata": {
        "colab": {
          "base_uri": "https://localhost:8080/"
        },
        "id": "gpOfwNuDDM3i",
        "outputId": "28dd3f13-4c3c-4483-9ace-d79781b004e2"
      },
      "outputs": [
        {
          "output_type": "stream",
          "name": "stdout",
          "text": [
            "학습 데이터 이미지 건수: (60000, 784)\n",
            "학습 데이터 정답 건수: (60000,)\n",
            "검증 데이터 이미지 건수: (10000, 784)\n",
            "검증 데이터 정답 건수: (10000,)\n"
          ]
        }
      ],
      "source": [
        "# 결과 확인\n",
        "print(\"학습 데이터 이미지 건수:\", x_train.shape)\n",
        "print(\"학습 데이터 정답 건수:\", y_train.shape)\n",
        "print(\"검증 데이터 이미지 건수:\", x_test.shape)\n",
        "print(\"검증 데이터 정답 건수:\", y_test.shape)"
      ]
    },
    {
      "cell_type": "markdown",
      "metadata": {
        "id": "DrsdhM-sIqph"
      },
      "source": [
        "### A2.6 알고리즘 선정하기"
      ]
    },
    {
      "cell_type": "markdown",
      "metadata": {
        "id": "YU3FAQhUG363"
      },
      "source": [
        "#### 알고리즘 선정"
      ]
    },
    {
      "cell_type": "code",
      "execution_count": 14,
      "metadata": {
        "id": "tlVO7Ygk78wi"
      },
      "outputs": [],
      "source": [
        "# 알고리즘 선정\n",
        "\n",
        "# 서포트 벡터 머신을 사용함\n",
        "from sklearn.svm import SVC\n",
        "algorithm = SVC(random_state=random_seed)"
      ]
    },
    {
      "cell_type": "markdown",
      "metadata": {
        "id": "H4TDztidIqpi"
      },
      "source": [
        "### A2.7 학습 및 예측"
      ]
    },
    {
      "cell_type": "markdown",
      "metadata": {
        "id": "fAptbc-FI3zI"
      },
      "source": [
        "#### 학습\n",
        "상당한 시간이 걸리므로 주의(7분 정도)"
      ]
    },
    {
      "cell_type": "code",
      "execution_count": 15,
      "metadata": {
        "colab": {
          "base_uri": "https://localhost:8080/"
        },
        "id": "yZpvaCubHCfW",
        "outputId": "ad5092ba-5b8a-42ed-d300-e66b38882a4b"
      },
      "outputs": [
        {
          "output_type": "stream",
          "name": "stdout",
          "text": [
            "학습시간: 220.1025초\n"
          ]
        }
      ],
      "source": [
        "# 학습\n",
        "import time\n",
        "start = time.time() \n",
        "algorithm.fit(x_train, y_train)\n",
        "end = time.time()\n",
        "elapsed = end - start\n",
        "print(f'학습시간: {elapsed:.4f}초')"
      ]
    },
    {
      "cell_type": "markdown",
      "metadata": {
        "id": "f1N1eCQUJEhS"
      },
      "source": [
        " #### 예측"
      ]
    },
    {
      "cell_type": "markdown",
      "metadata": {
        "id": "hnGH1qZmy-GM"
      },
      "source": [
        "상당한 시간이 걸리므로 주의(2분 정도)"
      ]
    },
    {
      "cell_type": "code",
      "execution_count": 16,
      "metadata": {
        "colab": {
          "base_uri": "https://localhost:8080/"
        },
        "id": "PdFINRNVI0Q_",
        "outputId": "20ce7d06-4599-42b2-89a7-48adab1b4b41"
      },
      "outputs": [
        {
          "output_type": "stream",
          "name": "stdout",
          "text": [
            "예측시간 88.9179초\n"
          ]
        }
      ],
      "source": [
        "# 예측\n",
        "import time\n",
        "start = time.time() \n",
        "y_pred = algorithm.predict(x_test)\n",
        "end = time.time()\n",
        "elapsed = end - start\n",
        "print(f'예측시간 {elapsed:.4f}초')"
      ]
    },
    {
      "cell_type": "markdown",
      "metadata": {
        "id": "EZOaL4M0Iqpi"
      },
      "source": [
        "### A2.8 평가"
      ]
    },
    {
      "cell_type": "markdown",
      "metadata": {
        "id": "XNPhJhZJJKu1"
      },
      "source": [
        "#### 평가"
      ]
    },
    {
      "cell_type": "code",
      "execution_count": 17,
      "metadata": {
        "colab": {
          "base_uri": "https://localhost:8080/",
          "height": 394
        },
        "id": "4_hAdDmvJMzW",
        "outputId": "80233604-8a3b-4485-949e-7b6e0c3c9b31"
      },
      "outputs": [
        {
          "output_type": "display_data",
          "data": {
            "text/plain": [
              "        예측결과                                               \n",
              "           0     1     2    3    4    5    6    7    8    9\n",
              "정답데이터 0  973     0     1    0    0    2    1    1    2    0\n",
              "      1    0  1126     3    1    0    1    1    1    2    0\n",
              "      2    6     1  1006    2    1    0    2    7    6    1\n",
              "      3    0     0     2  995    0    2    0    5    5    1\n",
              "      4    0     0     5    0  961    0    3    0    2   11\n",
              "      5    2     0     0    9    0  871    4    1    4    1\n",
              "      6    6     2     0    0    2    3  944    0    1    0\n",
              "      7    0     6    11    1    1    0    0  996    2   11\n",
              "      8    3     0     2    6    3    2    2    3  950    3\n",
              "      9    3     4     1    7   10    2    1    7    4  970"
            ],
            "text/html": [
              "\n",
              "  <div id=\"df-2bc4fe45-db08-4f61-8999-2d6a711e5235\">\n",
              "    <div class=\"colab-df-container\">\n",
              "      <div>\n",
              "<style scoped>\n",
              "    .dataframe tbody tr th:only-of-type {\n",
              "        vertical-align: middle;\n",
              "    }\n",
              "\n",
              "    .dataframe tbody tr th {\n",
              "        vertical-align: top;\n",
              "    }\n",
              "\n",
              "    .dataframe thead tr th {\n",
              "        text-align: left;\n",
              "    }\n",
              "</style>\n",
              "<table border=\"1\" class=\"dataframe\">\n",
              "  <thead>\n",
              "    <tr>\n",
              "      <th></th>\n",
              "      <th></th>\n",
              "      <th colspan=\"10\" halign=\"left\">예측결과</th>\n",
              "    </tr>\n",
              "    <tr>\n",
              "      <th></th>\n",
              "      <th></th>\n",
              "      <th>0</th>\n",
              "      <th>1</th>\n",
              "      <th>2</th>\n",
              "      <th>3</th>\n",
              "      <th>4</th>\n",
              "      <th>5</th>\n",
              "      <th>6</th>\n",
              "      <th>7</th>\n",
              "      <th>8</th>\n",
              "      <th>9</th>\n",
              "    </tr>\n",
              "  </thead>\n",
              "  <tbody>\n",
              "    <tr>\n",
              "      <th rowspan=\"10\" valign=\"top\">정답데이터</th>\n",
              "      <th>0</th>\n",
              "      <td>973</td>\n",
              "      <td>0</td>\n",
              "      <td>1</td>\n",
              "      <td>0</td>\n",
              "      <td>0</td>\n",
              "      <td>2</td>\n",
              "      <td>1</td>\n",
              "      <td>1</td>\n",
              "      <td>2</td>\n",
              "      <td>0</td>\n",
              "    </tr>\n",
              "    <tr>\n",
              "      <th>1</th>\n",
              "      <td>0</td>\n",
              "      <td>1126</td>\n",
              "      <td>3</td>\n",
              "      <td>1</td>\n",
              "      <td>0</td>\n",
              "      <td>1</td>\n",
              "      <td>1</td>\n",
              "      <td>1</td>\n",
              "      <td>2</td>\n",
              "      <td>0</td>\n",
              "    </tr>\n",
              "    <tr>\n",
              "      <th>2</th>\n",
              "      <td>6</td>\n",
              "      <td>1</td>\n",
              "      <td>1006</td>\n",
              "      <td>2</td>\n",
              "      <td>1</td>\n",
              "      <td>0</td>\n",
              "      <td>2</td>\n",
              "      <td>7</td>\n",
              "      <td>6</td>\n",
              "      <td>1</td>\n",
              "    </tr>\n",
              "    <tr>\n",
              "      <th>3</th>\n",
              "      <td>0</td>\n",
              "      <td>0</td>\n",
              "      <td>2</td>\n",
              "      <td>995</td>\n",
              "      <td>0</td>\n",
              "      <td>2</td>\n",
              "      <td>0</td>\n",
              "      <td>5</td>\n",
              "      <td>5</td>\n",
              "      <td>1</td>\n",
              "    </tr>\n",
              "    <tr>\n",
              "      <th>4</th>\n",
              "      <td>0</td>\n",
              "      <td>0</td>\n",
              "      <td>5</td>\n",
              "      <td>0</td>\n",
              "      <td>961</td>\n",
              "      <td>0</td>\n",
              "      <td>3</td>\n",
              "      <td>0</td>\n",
              "      <td>2</td>\n",
              "      <td>11</td>\n",
              "    </tr>\n",
              "    <tr>\n",
              "      <th>5</th>\n",
              "      <td>2</td>\n",
              "      <td>0</td>\n",
              "      <td>0</td>\n",
              "      <td>9</td>\n",
              "      <td>0</td>\n",
              "      <td>871</td>\n",
              "      <td>4</td>\n",
              "      <td>1</td>\n",
              "      <td>4</td>\n",
              "      <td>1</td>\n",
              "    </tr>\n",
              "    <tr>\n",
              "      <th>6</th>\n",
              "      <td>6</td>\n",
              "      <td>2</td>\n",
              "      <td>0</td>\n",
              "      <td>0</td>\n",
              "      <td>2</td>\n",
              "      <td>3</td>\n",
              "      <td>944</td>\n",
              "      <td>0</td>\n",
              "      <td>1</td>\n",
              "      <td>0</td>\n",
              "    </tr>\n",
              "    <tr>\n",
              "      <th>7</th>\n",
              "      <td>0</td>\n",
              "      <td>6</td>\n",
              "      <td>11</td>\n",
              "      <td>1</td>\n",
              "      <td>1</td>\n",
              "      <td>0</td>\n",
              "      <td>0</td>\n",
              "      <td>996</td>\n",
              "      <td>2</td>\n",
              "      <td>11</td>\n",
              "    </tr>\n",
              "    <tr>\n",
              "      <th>8</th>\n",
              "      <td>3</td>\n",
              "      <td>0</td>\n",
              "      <td>2</td>\n",
              "      <td>6</td>\n",
              "      <td>3</td>\n",
              "      <td>2</td>\n",
              "      <td>2</td>\n",
              "      <td>3</td>\n",
              "      <td>950</td>\n",
              "      <td>3</td>\n",
              "    </tr>\n",
              "    <tr>\n",
              "      <th>9</th>\n",
              "      <td>3</td>\n",
              "      <td>4</td>\n",
              "      <td>1</td>\n",
              "      <td>7</td>\n",
              "      <td>10</td>\n",
              "      <td>2</td>\n",
              "      <td>1</td>\n",
              "      <td>7</td>\n",
              "      <td>4</td>\n",
              "      <td>970</td>\n",
              "    </tr>\n",
              "  </tbody>\n",
              "</table>\n",
              "</div>\n",
              "      <button class=\"colab-df-convert\" onclick=\"convertToInteractive('df-2bc4fe45-db08-4f61-8999-2d6a711e5235')\"\n",
              "              title=\"Convert this dataframe to an interactive table.\"\n",
              "              style=\"display:none;\">\n",
              "        \n",
              "  <svg xmlns=\"http://www.w3.org/2000/svg\" height=\"24px\"viewBox=\"0 0 24 24\"\n",
              "       width=\"24px\">\n",
              "    <path d=\"M0 0h24v24H0V0z\" fill=\"none\"/>\n",
              "    <path d=\"M18.56 5.44l.94 2.06.94-2.06 2.06-.94-2.06-.94-.94-2.06-.94 2.06-2.06.94zm-11 1L8.5 8.5l.94-2.06 2.06-.94-2.06-.94L8.5 2.5l-.94 2.06-2.06.94zm10 10l.94 2.06.94-2.06 2.06-.94-2.06-.94-.94-2.06-.94 2.06-2.06.94z\"/><path d=\"M17.41 7.96l-1.37-1.37c-.4-.4-.92-.59-1.43-.59-.52 0-1.04.2-1.43.59L10.3 9.45l-7.72 7.72c-.78.78-.78 2.05 0 2.83L4 21.41c.39.39.9.59 1.41.59.51 0 1.02-.2 1.41-.59l7.78-7.78 2.81-2.81c.8-.78.8-2.07 0-2.86zM5.41 20L4 18.59l7.72-7.72 1.47 1.35L5.41 20z\"/>\n",
              "  </svg>\n",
              "      </button>\n",
              "      \n",
              "  <style>\n",
              "    .colab-df-container {\n",
              "      display:flex;\n",
              "      flex-wrap:wrap;\n",
              "      gap: 12px;\n",
              "    }\n",
              "\n",
              "    .colab-df-convert {\n",
              "      background-color: #E8F0FE;\n",
              "      border: none;\n",
              "      border-radius: 50%;\n",
              "      cursor: pointer;\n",
              "      display: none;\n",
              "      fill: #1967D2;\n",
              "      height: 32px;\n",
              "      padding: 0 0 0 0;\n",
              "      width: 32px;\n",
              "    }\n",
              "\n",
              "    .colab-df-convert:hover {\n",
              "      background-color: #E2EBFA;\n",
              "      box-shadow: 0px 1px 2px rgba(60, 64, 67, 0.3), 0px 1px 3px 1px rgba(60, 64, 67, 0.15);\n",
              "      fill: #174EA6;\n",
              "    }\n",
              "\n",
              "    [theme=dark] .colab-df-convert {\n",
              "      background-color: #3B4455;\n",
              "      fill: #D2E3FC;\n",
              "    }\n",
              "\n",
              "    [theme=dark] .colab-df-convert:hover {\n",
              "      background-color: #434B5C;\n",
              "      box-shadow: 0px 1px 3px 1px rgba(0, 0, 0, 0.15);\n",
              "      filter: drop-shadow(0px 1px 2px rgba(0, 0, 0, 0.3));\n",
              "      fill: #FFFFFF;\n",
              "    }\n",
              "  </style>\n",
              "\n",
              "      <script>\n",
              "        const buttonEl =\n",
              "          document.querySelector('#df-2bc4fe45-db08-4f61-8999-2d6a711e5235 button.colab-df-convert');\n",
              "        buttonEl.style.display =\n",
              "          google.colab.kernel.accessAllowed ? 'block' : 'none';\n",
              "\n",
              "        async function convertToInteractive(key) {\n",
              "          const element = document.querySelector('#df-2bc4fe45-db08-4f61-8999-2d6a711e5235');\n",
              "          const dataTable =\n",
              "            await google.colab.kernel.invokeFunction('convertToInteractive',\n",
              "                                                     [key], {});\n",
              "          if (!dataTable) return;\n",
              "\n",
              "          const docLinkHtml = 'Like what you see? Visit the ' +\n",
              "            '<a target=\"_blank\" href=https://colab.research.google.com/notebooks/data_table.ipynb>data table notebook</a>'\n",
              "            + ' to learn more about interactive tables.';\n",
              "          element.innerHTML = '';\n",
              "          dataTable['output_type'] = 'display_data';\n",
              "          await google.colab.output.renderOutput(dataTable, element);\n",
              "          const docLink = document.createElement('div');\n",
              "          docLink.innerHTML = docLinkHtml;\n",
              "          element.appendChild(docLink);\n",
              "        }\n",
              "      </script>\n",
              "    </div>\n",
              "  </div>\n",
              "  "
            ]
          },
          "metadata": {}
        }
      ],
      "source": [
        "# 혼동행렬 출력\n",
        "from sklearn.metrics import confusion_matrix\n",
        "labels = range(10)\n",
        "cm = confusion_matrix(y_test, y_pred, labels=labels)\n",
        "labels_str =  np.array(labels).astype(str)\n",
        "cm_labeled = make_cm(cm, labels_str)\n",
        "display(cm_labeled)"
      ]
    },
    {
      "cell_type": "code",
      "execution_count": 18,
      "metadata": {
        "colab": {
          "base_uri": "https://localhost:8080/"
        },
        "id": "0CsDZOXcJuAy",
        "outputId": "05013d2a-90d9-428a-e3b4-0b3ccce11562"
      },
      "outputs": [
        {
          "output_type": "stream",
          "name": "stdout",
          "text": [
            "              precision    recall  f1-score   support\n",
            "\n",
            "           0     0.9799    0.9929    0.9863       980\n",
            "           1     0.9886    0.9921    0.9903      1135\n",
            "           2     0.9758    0.9748    0.9753      1032\n",
            "           3     0.9745    0.9851    0.9798      1010\n",
            "           4     0.9826    0.9786    0.9806       982\n",
            "           5     0.9864    0.9765    0.9814       892\n",
            "           6     0.9854    0.9854    0.9854       958\n",
            "           7     0.9755    0.9689    0.9722      1028\n",
            "           8     0.9714    0.9754    0.9734       974\n",
            "           9     0.9719    0.9613    0.9666      1009\n",
            "\n",
            "    accuracy                         0.9792     10000\n",
            "   macro avg     0.9792    0.9791    0.9791     10000\n",
            "weighted avg     0.9792    0.9792    0.9792     10000\n",
            "\n"
          ]
        }
      ],
      "source": [
        "# 정밀도, 재현율, F-점수 출력\n",
        "from sklearn.metrics import classification_report\n",
        "print(classification_report(y_test, y_pred, digits=4))"
      ]
    },
    {
      "cell_type": "code",
      "execution_count": 19,
      "metadata": {
        "colab": {
          "base_uri": "https://localhost:8080/",
          "height": 205
        },
        "id": "bKZ0JVdAJuWz",
        "outputId": "e6c5df47-2a1a-4b1c-c2d5-80df240304eb"
      },
      "outputs": [
        {
          "output_type": "display_data",
          "data": {
            "text/plain": [
              "<Figure size 720x216 with 20 Axes>"
            ],
            "image/png": "[encoded data removed]"
          },
          "metadata": {}
        }
      ],
      "source": [
        "image_test = x_test * 255.0\n",
        "\n",
        "# 이미지 출력\n",
        "plt.figure(figsize=(10, 3))\n",
        "\n",
        "for i in range(20): \n",
        "    # i번째 ax 객체에 접근\n",
        "    ax = plt.subplot(2, 10, i+1)\n",
        "    \n",
        "    # i번째 이미지 데이터에 접근\n",
        "    img = image_test[i].reshape(28,28)\n",
        "    \n",
        "    # 이미지를 출력\n",
        "    ax.imshow(img, cmap='gray_r')\n",
        "    \n",
        "    # (정답데이터):(예측결과)를 타이틀로\n",
        "    title = f'{y_test.values[i]}:{y_pred[i]}'\n",
        "    ax.set_title(title)\n",
        "    \n",
        "    # x, y눈금 숨김\n",
        "    ax.set_xticks([])\n",
        "    ax.set_yticks([])\n",
        "\n",
        "# 인접 이미지와 간격 설정\n",
        "plt.tight_layout()\n",
        "\n",
        "# 화면 출력\n",
        "plt.show()     "
      ]
    },
    {
      "cell_type": "markdown",
      "metadata": {
        "id": "WfVhct8kIqpj"
      },
      "source": [
        "### A2.9 튜닝"
      ]
    },
    {
      "cell_type": "markdown",
      "metadata": {
        "id": "5RL9EB0aJNin"
      },
      "source": [
        "#### 튜닝\n",
        "케라스를 이용한 딥러닝 모델과 정확도를 비교한다"
      ]
    },
    {
      "cell_type": "code",
      "execution_count": 20,
      "metadata": {
        "id": "urZV6CM4JQsC"
      },
      "outputs": [],
      "source": [
        "import tensorflow as tf\n",
        "import keras\n",
        "from tensorflow.keras.models import Sequential\n",
        "from tensorflow.keras.layers import Dense, Dropout, Flatten\n",
        "from tensorflow.keras.layers import Conv2D, MaxPooling2D\n",
        "from keras import backend as K\n",
        "\n",
        "batch_size = 128\n",
        "num_classes = 10\n",
        "epochs = 12\n",
        "pixel_size = 28"
      ]
    },
    {
      "cell_type": "code",
      "execution_count": 21,
      "metadata": {
        "colab": {
          "base_uri": "https://localhost:8080/"
        },
        "id": "zc1shh8cilXP",
        "outputId": "f8d6021e-6351-40e4-be17-55af9a25274b"
      },
      "outputs": [
        {
          "output_type": "stream",
          "name": "stdout",
          "text": [
            "(28, 28, 1)\n"
          ]
        }
      ],
      "source": [
        "# 딥러닝에 사용할 수 있도록 입력 데이터를 변형\n",
        "\n",
        "# 학습 데이터\n",
        "x_train_tf = x_train.reshape(x_train.shape[0], \n",
        "    pixel_size, pixel_size, 1)\n",
        "\n",
        "# 검증 데이터\n",
        "x_test_tf = x_test.reshape(x_test.shape[0], \n",
        "    pixel_size, pixel_size, 1)\n",
        "\n",
        "# 입력 데이터 형식\n",
        "input_shape = x_train_tf.shape[1:]\n",
        "\n",
        "# 결과 확인\n",
        "print(input_shape)"
      ]
    },
    {
      "cell_type": "code",
      "execution_count": 22,
      "metadata": {
        "id": "WqoB138lhz-J"
      },
      "outputs": [],
      "source": [
        "# 딥러닝 모델 생성\n",
        "model = Sequential()\n",
        "model.add(Conv2D(32, kernel_size=(3, 3),\n",
        "                 activation='relu',\n",
        "                 input_shape=input_shape))\n",
        "model.add(Conv2D(64, (3, 3), activation='relu'))\n",
        "model.add(MaxPooling2D(pool_size=(2, 2)))\n",
        "model.add(Dropout(0.25))\n",
        "model.add(Flatten())\n",
        "model.add(Dense(128, activation='relu'))\n",
        "model.add(Dropout(0.5))\n",
        "model.add(Dense(num_classes, activation='softmax'))"
      ]
    },
    {
      "cell_type": "code",
      "execution_count": 23,
      "metadata": {
        "id": "_8cxrtzMo8Zk"
      },
      "outputs": [],
      "source": [
        "# 손실함수, 정확도, 학습 알고리즘 지정\n",
        "\n",
        "# 손실함수\n",
        "loss = tf.keras.losses.SparseCategoricalCrossentropy()\n",
        "\n",
        "# 정확도\n",
        "acc = tf.keras.metrics.SparseCategoricalAccuracy()\n",
        "\n",
        "# 학습 알고리즘\n",
        "optim = tf.keras.optimizers.Adam()\n",
        "\n",
        "# 모델과 결합\n",
        "model.compile(optimizer=optim, loss=loss, metrics=[acc])"
      ]
    },
    {
      "cell_type": "markdown",
      "metadata": {
        "id": "4hyLjAPHtSfP"
      },
      "source": [
        "#### 학습\n",
        "소요시간  \n",
        "약 30분(GPU 미사용)  \n",
        "약 1분(GPU 사용시)\n"
      ]
    },
    {
      "cell_type": "code",
      "execution_count": 24,
      "metadata": {
        "colab": {
          "base_uri": "https://localhost:8080/"
        },
        "id": "a4GM9TOcjXvs",
        "outputId": "b3ab4d30-4d94-4744-f21a-45c215c395f1"
      },
      "outputs": [
        {
          "output_type": "stream",
          "name": "stdout",
          "text": [
            "Epoch 1/12\n",
            "469/469 [==============================] - 7s 9ms/step - loss: 0.2419 - sparse_categorical_accuracy: 0.9264 - val_loss: 0.0583 - val_sparse_categorical_accuracy: 0.9803\n",
            "Epoch 2/12\n",
            "469/469 [==============================] - 4s 9ms/step - loss: 0.0825 - sparse_categorical_accuracy: 0.9758 - val_loss: 0.0374 - val_sparse_categorical_accuracy: 0.9880\n",
            "Epoch 3/12\n",
            "469/469 [==============================] - 4s 9ms/step - loss: 0.0624 - sparse_categorical_accuracy: 0.9807 - val_loss: 0.0308 - val_sparse_categorical_accuracy: 0.9894\n",
            "Epoch 4/12\n",
            "469/469 [==============================] - 4s 9ms/step - loss: 0.0518 - sparse_categorical_accuracy: 0.9842 - val_loss: 0.0309 - val_sparse_categorical_accuracy: 0.9894\n",
            "Epoch 5/12\n",
            "469/469 [==============================] - 4s 9ms/step - loss: 0.0456 - sparse_categorical_accuracy: 0.9860 - val_loss: 0.0312 - val_sparse_categorical_accuracy: 0.9893\n",
            "Epoch 6/12\n",
            "469/469 [==============================] - 4s 9ms/step - loss: 0.0374 - sparse_categorical_accuracy: 0.9884 - val_loss: 0.0294 - val_sparse_categorical_accuracy: 0.9905\n",
            "Epoch 7/12\n",
            "469/469 [==============================] - 4s 9ms/step - loss: 0.0348 - sparse_categorical_accuracy: 0.9895 - val_loss: 0.0295 - val_sparse_categorical_accuracy: 0.9914\n",
            "Epoch 8/12\n",
            "469/469 [==============================] - 4s 9ms/step - loss: 0.0292 - sparse_categorical_accuracy: 0.9902 - val_loss: 0.0285 - val_sparse_categorical_accuracy: 0.9908\n",
            "Epoch 9/12\n",
            "469/469 [==============================] - 4s 9ms/step - loss: 0.0273 - sparse_categorical_accuracy: 0.9909 - val_loss: 0.0245 - val_sparse_categorical_accuracy: 0.9922\n",
            "Epoch 10/12\n",
            "469/469 [==============================] - 4s 9ms/step - loss: 0.0248 - sparse_categorical_accuracy: 0.9918 - val_loss: 0.0292 - val_sparse_categorical_accuracy: 0.9912\n",
            "Epoch 11/12\n",
            "469/469 [==============================] - 4s 9ms/step - loss: 0.0218 - sparse_categorical_accuracy: 0.9925 - val_loss: 0.0296 - val_sparse_categorical_accuracy: 0.9913\n",
            "Epoch 12/12\n",
            "469/469 [==============================] - 4s 9ms/step - loss: 0.0220 - sparse_categorical_accuracy: 0.9927 - val_loss: 0.0311 - val_sparse_categorical_accuracy: 0.9905\n"
          ]
        },
        {
          "output_type": "execute_result",
          "data": {
            "text/plain": [
              "<keras.callbacks.History at 0x7f884e40d590>"
            ]
          },
          "metadata": {},
          "execution_count": 24
        }
      ],
      "source": [
        "# 학습\n",
        "model.fit(x_train_tf, y_train,\n",
        "          batch_size=batch_size,\n",
        "          epochs=epochs,\n",
        "          verbose=1,\n",
        "          validation_data=(x_test_tf, y_test))"
      ]
    },
    {
      "cell_type": "markdown",
      "metadata": {
        "id": "JeJ5Qm4Y2rZC"
      },
      "source": [
        "#### 예측 및 평가"
      ]
    },
    {
      "cell_type": "code",
      "execution_count": 25,
      "metadata": {
        "id": "5O-jwv-PmRSC"
      },
      "outputs": [],
      "source": [
        "# 예측 결과 받아오기\n",
        "y_pred_tf = np.argmax(model.predict(x_test_tf), axis=-1)"
      ]
    },
    {
      "cell_type": "code",
      "execution_count": 26,
      "metadata": {
        "colab": {
          "base_uri": "https://localhost:8080/",
          "height": 394
        },
        "id": "fe3JcWFqrhCT",
        "outputId": "3dc70d5a-0505-4bb6-87bd-be7969ca86f7"
      },
      "outputs": [
        {
          "output_type": "display_data",
          "data": {
            "text/plain": [
              "        예측결과                                                 \n",
              "           0     1     2     3    4    5    6     7    8    9\n",
              "정답데이터 0  976     0     1     0    1    0    1     1    0    0\n",
              "      1    0  1134     0     1    0    0    0     0    0    0\n",
              "      2    1     2  1022     2    0    0    0     5    0    0\n",
              "      3    0     0     0  1008    0    1    0     1    0    0\n",
              "      4    0     1     0     0  975    0    4     0    0    2\n",
              "      5    0     0     0     9    0  880    2     1    0    0\n",
              "      6    3     4     0     2    1    3  944     0    1    0\n",
              "      7    0     2     3     0    0    0    0  1022    1    0\n",
              "      8    3     1     3     2    3    0    0     2  957    3\n",
              "      9    1     1     0     3    7    2    0     6    2  987"
            ],
            "text/html": [
              "\n",
              "  <div id=\"df-4dadcea6-bb29-4889-9285-a03b023dbc71\">\n",
              "    <div class=\"colab-df-container\">\n",
              "      <div>\n",
              "<style scoped>\n",
              "    .dataframe tbody tr th:only-of-type {\n",
              "        vertical-align: middle;\n",
              "    }\n",
              "\n",
              "    .dataframe tbody tr th {\n",
              "        vertical-align: top;\n",
              "    }\n",
              "\n",
              "    .dataframe thead tr th {\n",
              "        text-align: left;\n",
              "    }\n",
              "</style>\n",
              "<table border=\"1\" class=\"dataframe\">\n",
              "  <thead>\n",
              "    <tr>\n",
              "      <th></th>\n",
              "      <th></th>\n",
              "      <th colspan=\"10\" halign=\"left\">예측결과</th>\n",
              "    </tr>\n",
              "    <tr>\n",
              "      <th></th>\n",
              "      <th></th>\n",
              "      <th>0</th>\n",
              "      <th>1</th>\n",
              "      <th>2</th>\n",
              "      <th>3</th>\n",
              "      <th>4</th>\n",
              "      <th>5</th>\n",
              "      <th>6</th>\n",
              "      <th>7</th>\n",
              "      <th>8</th>\n",
              "      <th>9</th>\n",
              "    </tr>\n",
              "  </thead>\n",
              "  <tbody>\n",
              "    <tr>\n",
              "      <th rowspan=\"10\" valign=\"top\">정답데이터</th>\n",
              "      <th>0</th>\n",
              "      <td>976</td>\n",
              "      <td>0</td>\n",
              "      <td>1</td>\n",
              "      <td>0</td>\n",
              "      <td>1</td>\n",
              "      <td>0</td>\n",
              "      <td>1</td>\n",
              "      <td>1</td>\n",
              "      <td>0</td>\n",
              "      <td>0</td>\n",
              "    </tr>\n",
              "    <tr>\n",
              "      <th>1</th>\n",
              "      <td>0</td>\n",
              "      <td>1134</td>\n",
              "      <td>0</td>\n",
              "      <td>1</td>\n",
              "      <td>0</td>\n",
              "      <td>0</td>\n",
              "      <td>0</td>\n",
              "      <td>0</td>\n",
              "      <td>0</td>\n",
              "      <td>0</td>\n",
              "    </tr>\n",
              "    <tr>\n",
              "      <th>2</th>\n",
              "      <td>1</td>\n",
              "      <td>2</td>\n",
              "      <td>1022</td>\n",
              "      <td>2</td>\n",
              "      <td>0</td>\n",
              "      <td>0</td>\n",
              "      <td>0</td>\n",
              "      <td>5</td>\n",
              "      <td>0</td>\n",
              "      <td>0</td>\n",
              "    </tr>\n",
              "    <tr>\n",
              "      <th>3</th>\n",
              "      <td>0</td>\n",
              "      <td>0</td>\n",
              "      <td>0</td>\n",
              "      <td>1008</td>\n",
              "      <td>0</td>\n",
              "      <td>1</td>\n",
              "      <td>0</td>\n",
              "      <td>1</td>\n",
              "      <td>0</td>\n",
              "      <td>0</td>\n",
              "    </tr>\n",
              "    <tr>\n",
              "      <th>4</th>\n",
              "      <td>0</td>\n",
              "      <td>1</td>\n",
              "      <td>0</td>\n",
              "      <td>0</td>\n",
              "      <td>975</td>\n",
              "      <td>0</td>\n",
              "      <td>4</td>\n",
              "      <td>0</td>\n",
              "      <td>0</td>\n",
              "      <td>2</td>\n",
              "    </tr>\n",
              "    <tr>\n",
              "      <th>5</th>\n",
              "      <td>0</td>\n",
              "      <td>0</td>\n",
              "      <td>0</td>\n",
              "      <td>9</td>\n",
              "      <td>0</td>\n",
              "      <td>880</td>\n",
              "      <td>2</td>\n",
              "      <td>1</td>\n",
              "      <td>0</td>\n",
              "      <td>0</td>\n",
              "    </tr>\n",
              "    <tr>\n",
              "      <th>6</th>\n",
              "      <td>3</td>\n",
              "      <td>4</td>\n",
              "      <td>0</td>\n",
              "      <td>2</td>\n",
              "      <td>1</td>\n",
              "      <td>3</td>\n",
              "      <td>944</td>\n",
              "      <td>0</td>\n",
              "      <td>1</td>\n",
              "      <td>0</td>\n",
              "    </tr>\n",
              "    <tr>\n",
              "      <th>7</th>\n",
              "      <td>0</td>\n",
              "      <td>2</td>\n",
              "      <td>3</td>\n",
              "      <td>0</td>\n",
              "      <td>0</td>\n",
              "      <td>0</td>\n",
              "      <td>0</td>\n",
              "      <td>1022</td>\n",
              "      <td>1</td>\n",
              "      <td>0</td>\n",
              "    </tr>\n",
              "    <tr>\n",
              "      <th>8</th>\n",
              "      <td>3</td>\n",
              "      <td>1</td>\n",
              "      <td>3</td>\n",
              "      <td>2</td>\n",
              "      <td>3</td>\n",
              "      <td>0</td>\n",
              "      <td>0</td>\n",
              "      <td>2</td>\n",
              "      <td>957</td>\n",
              "      <td>3</td>\n",
              "    </tr>\n",
              "    <tr>\n",
              "      <th>9</th>\n",
              "      <td>1</td>\n",
              "      <td>1</td>\n",
              "      <td>0</td>\n",
              "      <td>3</td>\n",
              "      <td>7</td>\n",
              "      <td>2</td>\n",
              "      <td>0</td>\n",
              "      <td>6</td>\n",
              "      <td>2</td>\n",
              "      <td>987</td>\n",
              "    </tr>\n",
              "  </tbody>\n",
              "</table>\n",
              "</div>\n",
              "      <button class=\"colab-df-convert\" onclick=\"convertToInteractive('df-4dadcea6-bb29-4889-9285-a03b023dbc71')\"\n",
              "              title=\"Convert this dataframe to an interactive table.\"\n",
              "              style=\"display:none;\">\n",
              "        \n",
              "  <svg xmlns=\"http://www.w3.org/2000/svg\" height=\"24px\"viewBox=\"0 0 24 24\"\n",
              "       width=\"24px\">\n",
              "    <path d=\"M0 0h24v24H0V0z\" fill=\"none\"/>\n",
              "    <path d=\"M18.56 5.44l.94 2.06.94-2.06 2.06-.94-2.06-.94-.94-2.06-.94 2.06-2.06.94zm-11 1L8.5 8.5l.94-2.06 2.06-.94-2.06-.94L8.5 2.5l-.94 2.06-2.06.94zm10 10l.94 2.06.94-2.06 2.06-.94-2.06-.94-.94-2.06-.94 2.06-2.06.94z\"/><path d=\"M17.41 7.96l-1.37-1.37c-.4-.4-.92-.59-1.43-.59-.52 0-1.04.2-1.43.59L10.3 9.45l-7.72 7.72c-.78.78-.78 2.05 0 2.83L4 21.41c.39.39.9.59 1.41.59.51 0 1.02-.2 1.41-.59l7.78-7.78 2.81-2.81c.8-.78.8-2.07 0-2.86zM5.41 20L4 18.59l7.72-7.72 1.47 1.35L5.41 20z\"/>\n",
              "  </svg>\n",
              "      </button>\n",
              "      \n",
              "  <style>\n",
              "    .colab-df-container {\n",
              "      display:flex;\n",
              "      flex-wrap:wrap;\n",
              "      gap: 12px;\n",
              "    }\n",
              "\n",
              "    .colab-df-convert {\n",
              "      background-color: #E8F0FE;\n",
              "      border: none;\n",
              "      border-radius: 50%;\n",
              "      cursor: pointer;\n",
              "      display: none;\n",
              "      fill: #1967D2;\n",
              "      height: 32px;\n",
              "      padding: 0 0 0 0;\n",
              "      width: 32px;\n",
              "    }\n",
              "\n",
              "    .colab-df-convert:hover {\n",
              "      background-color: #E2EBFA;\n",
              "      box-shadow: 0px 1px 2px rgba(60, 64, 67, 0.3), 0px 1px 3px 1px rgba(60, 64, 67, 0.15);\n",
              "      fill: #174EA6;\n",
              "    }\n",
              "\n",
              "    [theme=dark] .colab-df-convert {\n",
              "      background-color: #3B4455;\n",
              "      fill: #D2E3FC;\n",
              "    }\n",
              "\n",
              "    [theme=dark] .colab-df-convert:hover {\n",
              "      background-color: #434B5C;\n",
              "      box-shadow: 0px 1px 3px 1px rgba(0, 0, 0, 0.15);\n",
              "      filter: drop-shadow(0px 1px 2px rgba(0, 0, 0, 0.3));\n",
              "      fill: #FFFFFF;\n",
              "    }\n",
              "  </style>\n",
              "\n",
              "      <script>\n",
              "        const buttonEl =\n",
              "          document.querySelector('#df-4dadcea6-bb29-4889-9285-a03b023dbc71 button.colab-df-convert');\n",
              "        buttonEl.style.display =\n",
              "          google.colab.kernel.accessAllowed ? 'block' : 'none';\n",
              "\n",
              "        async function convertToInteractive(key) {\n",
              "          const element = document.querySelector('#df-4dadcea6-bb29-4889-9285-a03b023dbc71');\n",
              "          const dataTable =\n",
              "            await google.colab.kernel.invokeFunction('convertToInteractive',\n",
              "                                                     [key], {});\n",
              "          if (!dataTable) return;\n",
              "\n",
              "          const docLinkHtml = 'Like what you see? Visit the ' +\n",
              "            '<a target=\"_blank\" href=https://colab.research.google.com/notebooks/data_table.ipynb>data table notebook</a>'\n",
              "            + ' to learn more about interactive tables.';\n",
              "          element.innerHTML = '';\n",
              "          dataTable['output_type'] = 'display_data';\n",
              "          await google.colab.output.renderOutput(dataTable, element);\n",
              "          const docLink = document.createElement('div');\n",
              "          docLink.innerHTML = docLinkHtml;\n",
              "          element.appendChild(docLink);\n",
              "        }\n",
              "      </script>\n",
              "    </div>\n",
              "  </div>\n",
              "  "
            ]
          },
          "metadata": {}
        }
      ],
      "source": [
        "# 혼동행렬 출력\n",
        "cm2 = confusion_matrix(y_test, y_pred_tf, labels=labels)\n",
        "cm2_labeled = make_cm(cm2, labels_str)\n",
        "display(cm2_labeled)"
      ]
    },
    {
      "cell_type": "code",
      "execution_count": 27,
      "metadata": {
        "colab": {
          "base_uri": "https://localhost:8080/"
        },
        "id": "zktd7iUpr24w",
        "outputId": "eeb51e53-f7e7-43c5-ed83-c704bd25c92e"
      },
      "outputs": [
        {
          "output_type": "stream",
          "name": "stdout",
          "text": [
            "              precision    recall  f1-score   support\n",
            "\n",
            "           0     0.9919    0.9959    0.9939       980\n",
            "           1     0.9904    0.9991    0.9947      1135\n",
            "           2     0.9932    0.9903    0.9918      1032\n",
            "           3     0.9815    0.9980    0.9897      1010\n",
            "           4     0.9878    0.9929    0.9904       982\n",
            "           5     0.9932    0.9865    0.9899       892\n",
            "           6     0.9926    0.9854    0.9890       958\n",
            "           7     0.9846    0.9942    0.9894      1028\n",
            "           8     0.9958    0.9825    0.9891       974\n",
            "           9     0.9950    0.9782    0.9865      1009\n",
            "\n",
            "    accuracy                         0.9905     10000\n",
            "   macro avg     0.9906    0.9903    0.9904     10000\n",
            "weighted avg     0.9905    0.9905    0.9905     10000\n",
            "\n"
          ]
        }
      ],
      "source": [
        "# 정밀도, 재현율, F-점수 출력\n",
        "from sklearn.metrics import classification_report\n",
        "print(classification_report(y_test, y_pred_tf, digits=4))"
      ]
    },
    {
      "cell_type": "code",
      "execution_count": 28,
      "metadata": {
        "colab": {
          "base_uri": "https://localhost:8080/",
          "height": 205
        },
        "id": "YaTBmQl11Su4",
        "outputId": "42260710-16db-4bc5-b546-af82198c01a7"
      },
      "outputs": [
        {
          "output_type": "display_data",
          "data": {
            "text/plain": [
              "<Figure size 720x216 with 20 Axes>"
            ],
            "image/png": "[encoded data removed]"
          },
          "metadata": {}
        }
      ],
      "source": [
        "# 이미지 출력\n",
        "plt.figure(figsize=(10, 3))\n",
        "\n",
        "for i in range(20): \n",
        "    # i번째 ax 객체 접근\n",
        "    ax = plt.subplot(2, 10, i+1)\n",
        "    \n",
        "    # i번째 이미지 데이터 접근\n",
        "    img = image_test[i].reshape(28,28)\n",
        "    \n",
        "    # 이미지 출력\n",
        "    ax.imshow(img, cmap='gray_r')\n",
        "    \n",
        "    # (정답 데이터):(예측결과) 형식으로 타이틀 추가\n",
        "    title = f'{y_test.values[i]}:{y_pred_tf[i]}'\n",
        "    ax.set_title(title)\n",
        "    \n",
        "    # x, y눈금 숨김\n",
        "    ax.set_xticks([])\n",
        "    ax.set_yticks([])\n",
        "\n",
        "# 인접 이미지와 간격 설정\n",
        "plt.tight_layout()\n",
        "\n",
        "# 화면 출력\n",
        "plt.show()         "
      ]
    },
    {
      "cell_type": "code",
      "execution_count": 28,
      "metadata": {
        "id": "XQRxNQ8BIqpl"
      },
      "outputs": [],
      "source": [
        ""
      ]
    }
  ],
  "metadata": {
    "accelerator": "GPU",
    "colab": {
      "collapsed_sections": [],
      "name": "ch05_03_nmist.ipynb",
      "provenance": [],
      "include_colab_link": true
    },
    "kernelspec": {
      "display_name": "Python 3",
      "language": "python",
      "name": "python3"
    },
    "language_info": {
      "codemirror_mode": {
        "name": "ipython",
        "version": 3
      },
      "file_extension": ".py",
      "mimetype": "text/x-python",
      "name": "python",
      "nbconvert_exporter": "python",
      "pygments_lexer": "ipython3",
      "version": "3.7.10"
    }
  },
  "nbformat": 4,
  "nbformat_minor": 0
}