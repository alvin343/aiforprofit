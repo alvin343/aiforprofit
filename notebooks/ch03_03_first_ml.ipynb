{
 "cells": [
  {
   "attachments": {},
   "cell_type": "markdown",
   "metadata": {
    "colab_type": "text",
    "id": "M8HCd_fgs4r6"
   },
   "source": [
    "# 3.3 모델 구현하기"
   ]
  },
  {
   "attachments": {},
   "cell_type": "markdown",
   "metadata": {
    "colab_type": "text",
    "id": "aU-H4_An1qzF"
   },
   "source": [
    "### 공통 처리"
   ]
  },
  {
   "cell_type": "code",
   "execution_count": 81,
   "metadata": {
    "colab": {},
    "colab_type": "code",
    "id": "YdEDB0EbtAHq"
   },
   "outputs": [],
   "source": [
    "# 공통 처리\n",
    "\n",
    "# 불필요한 경고 메시지 무시\n",
    "import warnings\n",
    "warnings.filterwarnings('ignore')\n",
    "\n",
    "# 라이브러리 임포트\n",
    "import pandas as pd\n",
    "import numpy as np\n",
    "import matplotlib.pyplot as plt\n",
    "\n",
    "# 한글 글꼴 설정\n",
    "import platform\n",
    "\n",
    "if platform.system() == 'Windows':\n",
    "    plt.rc('font', family='Malgun Gothic')\n",
    "elif platform.system() == 'Darwin':\n",
    "    plt.rc('font', family = 'D2Coding')\n",
    "    plt.rc('font', size = 8)\n",
    "# plt.rcParams['font.family'] = 'Apple SD Gothic Neo'\n",
    "# plt.rcParams['font.size'] = 12\n",
    "\n",
    "\n",
    "\n",
    "# 데이터프레임 출력용 함수\n",
    "from IPython.display import display\n",
    "\n",
    "# 숫자 출력 조정\n",
    "# 넘파이 부동소수점 출력 자리수 설정\n",
    "np.set_printoptions(suppress=True, precision=4)\n",
    "\n",
    "# 판다스 부동소수점 출력 자리수 설정\n",
    "pd.options.display.float_format = '{:.4f}'.format\n",
    "\n",
    "# 데이터프레임 모든 필드 출력\n",
    "pd.set_option(\"display.max_columns\",None)\n",
    "\n",
    "# 그래프 글꼴 크기 설정\n",
    "# plt.rcParams[\"font.size\"] = 14\n",
    "\n",
    "# 난수 시드\n",
    "random_seed = 123"
   ]
  },
  {
   "attachments": {},
   "cell_type": "markdown",
   "metadata": {
    "colab_type": "text",
    "id": "9xyj5tgy1qzN"
   },
   "source": [
    "### 유방암 데이터 집합"
   ]
  },
  {
   "attachments": {},
   "cell_type": "markdown",
   "metadata": {
    "colab_type": "text",
    "id": "89d59gas1qzN"
   },
   "source": [
    "UCI 데이터 집합 배포 웹사이트: https://archive.ics.uci.edu/ml/datasets/Breast+Cancer+Wisconsin+(Diagnostic)"
   ]
  },
  {
   "attachments": {},
   "cell_type": "markdown",
   "metadata": {
    "colab_type": "text",
    "id": "4hLrMm_71qzO"
   },
   "source": [
    "#### 분석 데이터 이미지\n",
    "<img src=\"https://www.researchgate.net/profile/Nick_Street/publication/2512520/figure/fig2/AS:279373199495169@1443619169198/Snakes-After-Convergence-to-Cell-Nucleus-Boundaries-These-contours-are-the-nal.png\" alt=\"Drawing\" width=\"40%\" align=\"left\">\n"
   ]
  },
  {
   "attachments": {},
   "cell_type": "markdown",
   "metadata": {
    "colab_type": "text",
    "id": "QFRu16rLaVMK"
   },
   "source": [
    "### 3.3.1 (1) 데이터 읽어 들이기"
   ]
  },
  {
   "cell_type": "code",
   "execution_count": 82,
   "metadata": {
    "colab": {},
    "colab_type": "code",
    "id": "6nDUWh6dsrrx",
    "scrolled": true
   },
   "outputs": [
    {
     "name": "stdout",
     "output_type": "stream",
     "text": [
      ".. _breast_cancer_dataset:\n",
      "\n",
      "Breast cancer wisconsin (diagnostic) dataset\n",
      "--------------------------------------------\n",
      "\n",
      "**Data Set Characteristics:**\n",
      "\n",
      "    :Number of Instances: 569\n",
      "\n",
      "    :Number of Attributes: 30 numeric, predictive attributes and the class\n",
      "\n",
      "    :Attribute Information:\n",
      "        - radius (mean of distances from center to points on the perimeter)\n",
      "        - texture (standard deviation of gray-scale values)\n",
      "        - perimeter\n",
      "        - area\n",
      "        - smoothness (local variation in radius lengths)\n",
      "        - compactness (perimeter^2 / area - 1.0)\n",
      "        - concavity (severity of concave portions of the contour)\n",
      "        - concave points (number of concave portions of the contour)\n",
      "        - symmetry\n",
      "        - fractal dimension (\"coastline approximation\" - 1)\n",
      "\n",
      "        The mean, standard error, and \"worst\" or largest (mean of the three\n",
      "        worst/largest values) of these features were computed for each image,\n",
      "        resulting in 30 features.  For instance, field 0 is Mean Radius, field\n",
      "        10 is Radius SE, field 20 is Worst Radius.\n",
      "\n",
      "        - class:\n",
      "                - WDBC-Malignant\n",
      "                - WDBC-Benign\n",
      "\n",
      "    :Summary Statistics:\n",
      "\n",
      "    ===================================== ====== ======\n",
      "                                           Min    Max\n",
      "    ===================================== ====== ======\n",
      "    radius (mean):                        6.981  28.11\n",
      "    texture (mean):                       9.71   39.28\n",
      "    perimeter (mean):                     43.79  188.5\n",
      "    area (mean):                          143.5  2501.0\n",
      "    smoothness (mean):                    0.053  0.163\n",
      "    compactness (mean):                   0.019  0.345\n",
      "    concavity (mean):                     0.0    0.427\n",
      "    concave points (mean):                0.0    0.201\n",
      "    symmetry (mean):                      0.106  0.304\n",
      "    fractal dimension (mean):             0.05   0.097\n",
      "    radius (standard error):              0.112  2.873\n",
      "    texture (standard error):             0.36   4.885\n",
      "    perimeter (standard error):           0.757  21.98\n",
      "    area (standard error):                6.802  542.2\n",
      "    smoothness (standard error):          0.002  0.031\n",
      "    compactness (standard error):         0.002  0.135\n",
      "    concavity (standard error):           0.0    0.396\n",
      "    concave points (standard error):      0.0    0.053\n",
      "    symmetry (standard error):            0.008  0.079\n",
      "    fractal dimension (standard error):   0.001  0.03\n",
      "    radius (worst):                       7.93   36.04\n",
      "    texture (worst):                      12.02  49.54\n",
      "    perimeter (worst):                    50.41  251.2\n",
      "    area (worst):                         185.2  4254.0\n",
      "    smoothness (worst):                   0.071  0.223\n",
      "    compactness (worst):                  0.027  1.058\n",
      "    concavity (worst):                    0.0    1.252\n",
      "    concave points (worst):               0.0    0.291\n",
      "    symmetry (worst):                     0.156  0.664\n",
      "    fractal dimension (worst):            0.055  0.208\n",
      "    ===================================== ====== ======\n",
      "\n",
      "    :Missing Attribute Values: None\n",
      "\n",
      "    :Class Distribution: 212 - Malignant, 357 - Benign\n",
      "\n",
      "    :Creator:  Dr. William H. Wolberg, W. Nick Street, Olvi L. Mangasarian\n",
      "\n",
      "    :Donor: Nick Street\n",
      "\n",
      "    :Date: November, 1995\n",
      "\n",
      "This is a copy of UCI ML Breast Cancer Wisconsin (Diagnostic) datasets.\n",
      "https://goo.gl/U2Uwz2\n",
      "\n",
      "Features are computed from a digitized image of a fine needle\n",
      "aspirate (FNA) of a breast mass.  They describe\n",
      "characteristics of the cell nuclei present in the image.\n",
      "\n",
      "Separating plane described above was obtained using\n",
      "Multisurface Method-Tree (MSM-T) [K. P. Bennett, \"Decision Tree\n",
      "Construction Via Linear Programming.\" Proceedings of the 4th\n",
      "Midwest Artificial Intelligence and Cognitive Science Society,\n",
      "pp. 97-101, 1992], a classification method which uses linear\n",
      "programming to construct a decision tree.  Relevant features\n",
      "were selected using an exhaustive search in the space of 1-4\n",
      "features and 1-3 separating planes.\n",
      "\n",
      "The actual linear program used to obtain the separating plane\n",
      "in the 3-dimensional space is that described in:\n",
      "[K. P. Bennett and O. L. Mangasarian: \"Robust Linear\n",
      "Programming Discrimination of Two Linearly Inseparable Sets\",\n",
      "Optimization Methods and Software 1, 1992, 23-34].\n",
      "\n",
      "This database is also available through the UW CS ftp server:\n",
      "\n",
      "ftp ftp.cs.wisc.edu\n",
      "cd math-prog/cpo-dataset/machine-learn/WDBC/\n",
      "\n",
      ".. topic:: References\n",
      "\n",
      "   - W.N. Street, W.H. Wolberg and O.L. Mangasarian. Nuclear feature extraction \n",
      "     for breast tumor diagnosis. IS&T/SPIE 1993 International Symposium on \n",
      "     Electronic Imaging: Science and Technology, volume 1905, pages 861-870,\n",
      "     San Jose, CA, 1993.\n",
      "   - O.L. Mangasarian, W.N. Street and W.H. Wolberg. Breast cancer diagnosis and \n",
      "     prognosis via linear programming. Operations Research, 43(4), pages 570-577, \n",
      "     July-August 1995.\n",
      "   - W.H. Wolberg, W.N. Street, and O.L. Mangasarian. Machine learning techniques\n",
      "     to diagnose breast cancer from fine-needle aspirates. Cancer Letters 77 (1994) \n",
      "     163-171.\n"
     ]
    }
   ],
   "source": [
    "# 유방암 데이터 집합 읽어 들이기\n",
    "\n",
    "# 라이브러리 임포트\n",
    "from sklearn.datasets import load_breast_cancer\n",
    "\n",
    "# 데이터 내려받기\n",
    "cancer = load_breast_cancer()\n",
    "\n",
    "# 데이터에 대한 설명 읽기\n",
    "print(cancer.DESCR)"
   ]
  },
  {
   "cell_type": "code",
   "execution_count": 83,
   "metadata": {
    "colab": {},
    "colab_type": "code",
    "id": "Sf_A259BtYDq"
   },
   "outputs": [],
   "source": [
    "# 데이터프레임으로 변환하기\n",
    "\n",
    "columns = [\n",
    "    '반지름_평균', '텍스처_평균', '둘레길이_평균', '면적_평균',\n",
    "    '평활도_평균', '콤팩트도_평균', '오목면_평균',\n",
    "    '오목점_평균', '대칭성_평균', '프랙탈도_평균',\n",
    "    '반지름_표준편차', '텍스처_표준편차', '둘레길이_표준편차',\n",
    "    '면적_표준편차', '평활도_표준편차',\n",
    "    '콤팩트도_표준편차', '오목면_표준편차', '오목점_표준편차',\n",
    "    '대칭성_표준편차', '프랙탈도_표준편차',\n",
    "    '반지름_최대', '텍스처_최대', '둘레길이_최대', '면적_최대',\n",
    "    '평활도_최대', '콤팩트도_최대', '오목면_최대', '오목점_최대',\n",
    "    '대칭성_최대', '프랙탈도_최대'\n",
    "]\n",
    "\n",
    "# 읽어 들인 데이터를 데이터프레임으로 변환\n",
    "# df = pd.DataFrame(cancer.data, columns=columns)\n",
    "df = pd.DataFrame(cancer.data, columns=cancer.feature_names)\n",
    "\n",
    "# 정답 데이터를 꺼냄\n",
    "y = pd.Series(cancer.target)"
   ]
  },
  {
   "attachments": {},
   "cell_type": "markdown",
   "metadata": {
    "colab_type": "text",
    "id": "C-ddEokd1qzU"
   },
   "source": [
    "### 3.3.2 (2) 데이터 확인"
   ]
  },
  {
   "cell_type": "code",
   "execution_count": 84,
   "metadata": {
    "colab": {},
    "colab_type": "code",
    "id": "LKD5Nj8Xtw_j"
   },
   "outputs": [
    {
     "data": {
      "text/html": [
       "<div>\n",
       "<style scoped>\n",
       "    .dataframe tbody tr th:only-of-type {\n",
       "        vertical-align: middle;\n",
       "    }\n",
       "\n",
       "    .dataframe tbody tr th {\n",
       "        vertical-align: top;\n",
       "    }\n",
       "\n",
       "    .dataframe thead th {\n",
       "        text-align: right;\n",
       "    }\n",
       "</style>\n",
       "<table border=\"1\" class=\"dataframe\">\n",
       "  <thead>\n",
       "    <tr style=\"text-align: right;\">\n",
       "      <th></th>\n",
       "      <th>mean radius</th>\n",
       "      <th>mean texture</th>\n",
       "      <th>mean perimeter</th>\n",
       "      <th>mean area</th>\n",
       "      <th>mean smoothness</th>\n",
       "      <th>mean compactness</th>\n",
       "      <th>mean concavity</th>\n",
       "      <th>mean concave points</th>\n",
       "      <th>mean symmetry</th>\n",
       "      <th>mean fractal dimension</th>\n",
       "      <th>radius error</th>\n",
       "      <th>texture error</th>\n",
       "      <th>perimeter error</th>\n",
       "      <th>area error</th>\n",
       "      <th>smoothness error</th>\n",
       "      <th>compactness error</th>\n",
       "      <th>concavity error</th>\n",
       "      <th>concave points error</th>\n",
       "      <th>symmetry error</th>\n",
       "      <th>fractal dimension error</th>\n",
       "      <th>worst radius</th>\n",
       "      <th>worst texture</th>\n",
       "      <th>worst perimeter</th>\n",
       "      <th>worst area</th>\n",
       "      <th>worst smoothness</th>\n",
       "      <th>worst compactness</th>\n",
       "      <th>worst concavity</th>\n",
       "      <th>worst concave points</th>\n",
       "      <th>worst symmetry</th>\n",
       "      <th>worst fractal dimension</th>\n",
       "    </tr>\n",
       "  </thead>\n",
       "  <tbody>\n",
       "    <tr>\n",
       "      <th>20</th>\n",
       "      <td>13.0800</td>\n",
       "      <td>15.7100</td>\n",
       "      <td>85.6300</td>\n",
       "      <td>520.0000</td>\n",
       "      <td>0.1075</td>\n",
       "      <td>0.1270</td>\n",
       "      <td>0.0457</td>\n",
       "      <td>0.0311</td>\n",
       "      <td>0.1967</td>\n",
       "      <td>0.0681</td>\n",
       "      <td>0.1852</td>\n",
       "      <td>0.7477</td>\n",
       "      <td>1.3830</td>\n",
       "      <td>14.6700</td>\n",
       "      <td>0.0041</td>\n",
       "      <td>0.0190</td>\n",
       "      <td>0.0170</td>\n",
       "      <td>0.0065</td>\n",
       "      <td>0.0168</td>\n",
       "      <td>0.0024</td>\n",
       "      <td>14.5000</td>\n",
       "      <td>20.4900</td>\n",
       "      <td>96.0900</td>\n",
       "      <td>630.5000</td>\n",
       "      <td>0.1312</td>\n",
       "      <td>0.2776</td>\n",
       "      <td>0.1890</td>\n",
       "      <td>0.0728</td>\n",
       "      <td>0.3184</td>\n",
       "      <td>0.0818</td>\n",
       "    </tr>\n",
       "    <tr>\n",
       "      <th>21</th>\n",
       "      <td>9.5040</td>\n",
       "      <td>12.4400</td>\n",
       "      <td>60.3400</td>\n",
       "      <td>273.9000</td>\n",
       "      <td>0.1024</td>\n",
       "      <td>0.0649</td>\n",
       "      <td>0.0296</td>\n",
       "      <td>0.0208</td>\n",
       "      <td>0.1815</td>\n",
       "      <td>0.0691</td>\n",
       "      <td>0.2773</td>\n",
       "      <td>0.9768</td>\n",
       "      <td>1.9090</td>\n",
       "      <td>15.7000</td>\n",
       "      <td>0.0096</td>\n",
       "      <td>0.0143</td>\n",
       "      <td>0.0198</td>\n",
       "      <td>0.0142</td>\n",
       "      <td>0.0203</td>\n",
       "      <td>0.0030</td>\n",
       "      <td>10.2300</td>\n",
       "      <td>15.6600</td>\n",
       "      <td>65.1300</td>\n",
       "      <td>314.9000</td>\n",
       "      <td>0.1324</td>\n",
       "      <td>0.1148</td>\n",
       "      <td>0.0887</td>\n",
       "      <td>0.0623</td>\n",
       "      <td>0.2450</td>\n",
       "      <td>0.0777</td>\n",
       "    </tr>\n",
       "    <tr>\n",
       "      <th>22</th>\n",
       "      <td>15.3400</td>\n",
       "      <td>14.2600</td>\n",
       "      <td>102.5000</td>\n",
       "      <td>704.4000</td>\n",
       "      <td>0.1073</td>\n",
       "      <td>0.2135</td>\n",
       "      <td>0.2077</td>\n",
       "      <td>0.0976</td>\n",
       "      <td>0.2521</td>\n",
       "      <td>0.0703</td>\n",
       "      <td>0.4388</td>\n",
       "      <td>0.7096</td>\n",
       "      <td>3.3840</td>\n",
       "      <td>44.9100</td>\n",
       "      <td>0.0068</td>\n",
       "      <td>0.0533</td>\n",
       "      <td>0.0645</td>\n",
       "      <td>0.0225</td>\n",
       "      <td>0.0367</td>\n",
       "      <td>0.0044</td>\n",
       "      <td>18.0700</td>\n",
       "      <td>19.0800</td>\n",
       "      <td>125.1000</td>\n",
       "      <td>980.9000</td>\n",
       "      <td>0.1390</td>\n",
       "      <td>0.5954</td>\n",
       "      <td>0.6305</td>\n",
       "      <td>0.2393</td>\n",
       "      <td>0.4667</td>\n",
       "      <td>0.0995</td>\n",
       "    </tr>\n",
       "    <tr>\n",
       "      <th>23</th>\n",
       "      <td>21.1600</td>\n",
       "      <td>23.0400</td>\n",
       "      <td>137.2000</td>\n",
       "      <td>1404.0000</td>\n",
       "      <td>0.0943</td>\n",
       "      <td>0.1022</td>\n",
       "      <td>0.1097</td>\n",
       "      <td>0.0863</td>\n",
       "      <td>0.1769</td>\n",
       "      <td>0.0528</td>\n",
       "      <td>0.6917</td>\n",
       "      <td>1.1270</td>\n",
       "      <td>4.3030</td>\n",
       "      <td>93.9900</td>\n",
       "      <td>0.0047</td>\n",
       "      <td>0.0126</td>\n",
       "      <td>0.0171</td>\n",
       "      <td>0.0104</td>\n",
       "      <td>0.0108</td>\n",
       "      <td>0.0020</td>\n",
       "      <td>29.1700</td>\n",
       "      <td>35.5900</td>\n",
       "      <td>188.0000</td>\n",
       "      <td>2615.0000</td>\n",
       "      <td>0.1401</td>\n",
       "      <td>0.2600</td>\n",
       "      <td>0.3155</td>\n",
       "      <td>0.2009</td>\n",
       "      <td>0.2822</td>\n",
       "      <td>0.0753</td>\n",
       "    </tr>\n",
       "    <tr>\n",
       "      <th>24</th>\n",
       "      <td>16.6500</td>\n",
       "      <td>21.3800</td>\n",
       "      <td>110.0000</td>\n",
       "      <td>904.6000</td>\n",
       "      <td>0.1121</td>\n",
       "      <td>0.1457</td>\n",
       "      <td>0.1525</td>\n",
       "      <td>0.0917</td>\n",
       "      <td>0.1995</td>\n",
       "      <td>0.0633</td>\n",
       "      <td>0.8068</td>\n",
       "      <td>0.9017</td>\n",
       "      <td>5.4550</td>\n",
       "      <td>102.6000</td>\n",
       "      <td>0.0060</td>\n",
       "      <td>0.0188</td>\n",
       "      <td>0.0274</td>\n",
       "      <td>0.0113</td>\n",
       "      <td>0.0147</td>\n",
       "      <td>0.0028</td>\n",
       "      <td>26.4600</td>\n",
       "      <td>31.5600</td>\n",
       "      <td>177.0000</td>\n",
       "      <td>2215.0000</td>\n",
       "      <td>0.1805</td>\n",
       "      <td>0.3578</td>\n",
       "      <td>0.4695</td>\n",
       "      <td>0.2095</td>\n",
       "      <td>0.3613</td>\n",
       "      <td>0.0956</td>\n",
       "    </tr>\n",
       "  </tbody>\n",
       "</table>\n",
       "</div>"
      ],
      "text/plain": [
       "    mean radius  mean texture  mean perimeter  mean area  mean smoothness  \\\n",
       "20      13.0800       15.7100         85.6300   520.0000           0.1075   \n",
       "21       9.5040       12.4400         60.3400   273.9000           0.1024   \n",
       "22      15.3400       14.2600        102.5000   704.4000           0.1073   \n",
       "23      21.1600       23.0400        137.2000  1404.0000           0.0943   \n",
       "24      16.6500       21.3800        110.0000   904.6000           0.1121   \n",
       "\n",
       "    mean compactness  mean concavity  mean concave points  mean symmetry  \\\n",
       "20            0.1270          0.0457               0.0311         0.1967   \n",
       "21            0.0649          0.0296               0.0208         0.1815   \n",
       "22            0.2135          0.2077               0.0976         0.2521   \n",
       "23            0.1022          0.1097               0.0863         0.1769   \n",
       "24            0.1457          0.1525               0.0917         0.1995   \n",
       "\n",
       "    mean fractal dimension  radius error  texture error  perimeter error  \\\n",
       "20                  0.0681        0.1852         0.7477           1.3830   \n",
       "21                  0.0691        0.2773         0.9768           1.9090   \n",
       "22                  0.0703        0.4388         0.7096           3.3840   \n",
       "23                  0.0528        0.6917         1.1270           4.3030   \n",
       "24                  0.0633        0.8068         0.9017           5.4550   \n",
       "\n",
       "    area error  smoothness error  compactness error  concavity error  \\\n",
       "20     14.6700            0.0041             0.0190           0.0170   \n",
       "21     15.7000            0.0096             0.0143           0.0198   \n",
       "22     44.9100            0.0068             0.0533           0.0645   \n",
       "23     93.9900            0.0047             0.0126           0.0171   \n",
       "24    102.6000            0.0060             0.0188           0.0274   \n",
       "\n",
       "    concave points error  symmetry error  fractal dimension error  \\\n",
       "20                0.0065          0.0168                   0.0024   \n",
       "21                0.0142          0.0203                   0.0030   \n",
       "22                0.0225          0.0367                   0.0044   \n",
       "23                0.0104          0.0108                   0.0020   \n",
       "24                0.0113          0.0147                   0.0028   \n",
       "\n",
       "    worst radius  worst texture  worst perimeter  worst area  \\\n",
       "20       14.5000        20.4900          96.0900    630.5000   \n",
       "21       10.2300        15.6600          65.1300    314.9000   \n",
       "22       18.0700        19.0800         125.1000    980.9000   \n",
       "23       29.1700        35.5900         188.0000   2615.0000   \n",
       "24       26.4600        31.5600         177.0000   2215.0000   \n",
       "\n",
       "    worst smoothness  worst compactness  worst concavity  \\\n",
       "20            0.1312             0.2776           0.1890   \n",
       "21            0.1324             0.1148           0.0887   \n",
       "22            0.1390             0.5954           0.6305   \n",
       "23            0.1401             0.2600           0.3155   \n",
       "24            0.1805             0.3578           0.4695   \n",
       "\n",
       "    worst concave points  worst symmetry  worst fractal dimension  \n",
       "20                0.0728          0.3184                   0.0818  \n",
       "21                0.0623          0.2450                   0.0777  \n",
       "22                0.2393          0.4667                   0.0995  \n",
       "23                0.2009          0.2822                   0.0753  \n",
       "24                0.2095          0.3613                   0.0956  "
      ]
     },
     "metadata": {},
     "output_type": "display_data"
    }
   ],
   "source": [
    "# 입력 데이터를 화면에 출력하기\n",
    "\n",
    "# 입력 데이터의 20번째 줄부터 24번째 줄까지 화면에 출력한다\n",
    "display(df[20:25])"
   ]
  },
  {
   "cell_type": "code",
   "execution_count": 85,
   "metadata": {
    "colab": {},
    "colab_type": "code",
    "id": "Lfo3Toco5tQY"
   },
   "outputs": [
    {
     "name": "stdout",
     "output_type": "stream",
     "text": [
      "20    1\n",
      "21    1\n",
      "22    0\n",
      "23    0\n",
      "24    0\n",
      "dtype: int64\n"
     ]
    }
   ],
   "source": [
    "# 정답 데이터를 화면에 출력하기\n",
    "\n",
    "# 정답 데이터의 20번째 줄부터 24번째 줄까지 화면에 출력한다\n",
    "print(y[20:25])"
   ]
  },
  {
   "cell_type": "code",
   "execution_count": 86,
   "metadata": {
    "colab": {},
    "colab_type": "code",
    "id": "DmWwsLdPyXJ7"
   },
   "outputs": [
    {
     "name": "stdout",
     "output_type": "stream",
     "text": [
      "(569, 30)\n",
      "\n",
      "1    357\n",
      "0    212\n",
      "dtype: int64\n"
     ]
    }
   ],
   "source": [
    "# 데이터에 대한 통계 정보 확인하기\n",
    "\n",
    "# 입력 데이터의 행과 열의 수를 확인\n",
    "print(df.shape)\n",
    "print()\n",
    "\n",
    "# 정답 데이터의 1과 0의 건수 확인\n",
    "print(y.value_counts())"
   ]
  },
  {
   "cell_type": "code",
   "execution_count": 87,
   "metadata": {
    "colab": {},
    "colab_type": "code",
    "id": "BblWBEaj92eC",
    "scrolled": false
   },
   "outputs": [
    {
     "data": {
      "text/html": [
       "<div>\n",
       "<style scoped>\n",
       "    .dataframe tbody tr th:only-of-type {\n",
       "        vertical-align: middle;\n",
       "    }\n",
       "\n",
       "    .dataframe tbody tr th {\n",
       "        vertical-align: top;\n",
       "    }\n",
       "\n",
       "    .dataframe thead th {\n",
       "        text-align: right;\n",
       "    }\n",
       "</style>\n",
       "<table border=\"1\" class=\"dataframe\">\n",
       "  <thead>\n",
       "    <tr style=\"text-align: right;\">\n",
       "      <th></th>\n",
       "      <th>mean radius</th>\n",
       "      <th>mean texture</th>\n",
       "      <th>mean perimeter</th>\n",
       "      <th>mean area</th>\n",
       "      <th>mean smoothness</th>\n",
       "      <th>mean compactness</th>\n",
       "      <th>mean concavity</th>\n",
       "      <th>mean concave points</th>\n",
       "      <th>mean symmetry</th>\n",
       "      <th>mean fractal dimension</th>\n",
       "      <th>radius error</th>\n",
       "      <th>texture error</th>\n",
       "      <th>perimeter error</th>\n",
       "      <th>area error</th>\n",
       "      <th>smoothness error</th>\n",
       "      <th>compactness error</th>\n",
       "      <th>concavity error</th>\n",
       "      <th>concave points error</th>\n",
       "      <th>symmetry error</th>\n",
       "      <th>fractal dimension error</th>\n",
       "      <th>worst radius</th>\n",
       "      <th>worst texture</th>\n",
       "      <th>worst perimeter</th>\n",
       "      <th>worst area</th>\n",
       "      <th>worst smoothness</th>\n",
       "      <th>worst compactness</th>\n",
       "      <th>worst concavity</th>\n",
       "      <th>worst concave points</th>\n",
       "      <th>worst symmetry</th>\n",
       "      <th>worst fractal dimension</th>\n",
       "    </tr>\n",
       "  </thead>\n",
       "  <tbody>\n",
       "    <tr>\n",
       "      <th>0</th>\n",
       "      <td>17.9900</td>\n",
       "      <td>10.3800</td>\n",
       "      <td>122.8000</td>\n",
       "      <td>1001.0000</td>\n",
       "      <td>0.1184</td>\n",
       "      <td>0.2776</td>\n",
       "      <td>0.3001</td>\n",
       "      <td>0.1471</td>\n",
       "      <td>0.2419</td>\n",
       "      <td>0.0787</td>\n",
       "      <td>1.0950</td>\n",
       "      <td>0.9053</td>\n",
       "      <td>8.5890</td>\n",
       "      <td>153.4000</td>\n",
       "      <td>0.0064</td>\n",
       "      <td>0.0490</td>\n",
       "      <td>0.0537</td>\n",
       "      <td>0.0159</td>\n",
       "      <td>0.0300</td>\n",
       "      <td>0.0062</td>\n",
       "      <td>25.3800</td>\n",
       "      <td>17.3300</td>\n",
       "      <td>184.6000</td>\n",
       "      <td>2019.0000</td>\n",
       "      <td>0.1622</td>\n",
       "      <td>0.6656</td>\n",
       "      <td>0.7119</td>\n",
       "      <td>0.2654</td>\n",
       "      <td>0.4601</td>\n",
       "      <td>0.1189</td>\n",
       "    </tr>\n",
       "    <tr>\n",
       "      <th>1</th>\n",
       "      <td>20.5700</td>\n",
       "      <td>17.7700</td>\n",
       "      <td>132.9000</td>\n",
       "      <td>1326.0000</td>\n",
       "      <td>0.0847</td>\n",
       "      <td>0.0786</td>\n",
       "      <td>0.0869</td>\n",
       "      <td>0.0702</td>\n",
       "      <td>0.1812</td>\n",
       "      <td>0.0567</td>\n",
       "      <td>0.5435</td>\n",
       "      <td>0.7339</td>\n",
       "      <td>3.3980</td>\n",
       "      <td>74.0800</td>\n",
       "      <td>0.0052</td>\n",
       "      <td>0.0131</td>\n",
       "      <td>0.0186</td>\n",
       "      <td>0.0134</td>\n",
       "      <td>0.0139</td>\n",
       "      <td>0.0035</td>\n",
       "      <td>24.9900</td>\n",
       "      <td>23.4100</td>\n",
       "      <td>158.8000</td>\n",
       "      <td>1956.0000</td>\n",
       "      <td>0.1238</td>\n",
       "      <td>0.1866</td>\n",
       "      <td>0.2416</td>\n",
       "      <td>0.1860</td>\n",
       "      <td>0.2750</td>\n",
       "      <td>0.0890</td>\n",
       "    </tr>\n",
       "    <tr>\n",
       "      <th>2</th>\n",
       "      <td>19.6900</td>\n",
       "      <td>21.2500</td>\n",
       "      <td>130.0000</td>\n",
       "      <td>1203.0000</td>\n",
       "      <td>0.1096</td>\n",
       "      <td>0.1599</td>\n",
       "      <td>0.1974</td>\n",
       "      <td>0.1279</td>\n",
       "      <td>0.2069</td>\n",
       "      <td>0.0600</td>\n",
       "      <td>0.7456</td>\n",
       "      <td>0.7869</td>\n",
       "      <td>4.5850</td>\n",
       "      <td>94.0300</td>\n",
       "      <td>0.0062</td>\n",
       "      <td>0.0401</td>\n",
       "      <td>0.0383</td>\n",
       "      <td>0.0206</td>\n",
       "      <td>0.0225</td>\n",
       "      <td>0.0046</td>\n",
       "      <td>23.5700</td>\n",
       "      <td>25.5300</td>\n",
       "      <td>152.5000</td>\n",
       "      <td>1709.0000</td>\n",
       "      <td>0.1444</td>\n",
       "      <td>0.4245</td>\n",
       "      <td>0.4504</td>\n",
       "      <td>0.2430</td>\n",
       "      <td>0.3613</td>\n",
       "      <td>0.0876</td>\n",
       "    </tr>\n",
       "    <tr>\n",
       "      <th>3</th>\n",
       "      <td>11.4200</td>\n",
       "      <td>20.3800</td>\n",
       "      <td>77.5800</td>\n",
       "      <td>386.1000</td>\n",
       "      <td>0.1425</td>\n",
       "      <td>0.2839</td>\n",
       "      <td>0.2414</td>\n",
       "      <td>0.1052</td>\n",
       "      <td>0.2597</td>\n",
       "      <td>0.0974</td>\n",
       "      <td>0.4956</td>\n",
       "      <td>1.1560</td>\n",
       "      <td>3.4450</td>\n",
       "      <td>27.2300</td>\n",
       "      <td>0.0091</td>\n",
       "      <td>0.0746</td>\n",
       "      <td>0.0566</td>\n",
       "      <td>0.0187</td>\n",
       "      <td>0.0596</td>\n",
       "      <td>0.0092</td>\n",
       "      <td>14.9100</td>\n",
       "      <td>26.5000</td>\n",
       "      <td>98.8700</td>\n",
       "      <td>567.7000</td>\n",
       "      <td>0.2098</td>\n",
       "      <td>0.8663</td>\n",
       "      <td>0.6869</td>\n",
       "      <td>0.2575</td>\n",
       "      <td>0.6638</td>\n",
       "      <td>0.1730</td>\n",
       "    </tr>\n",
       "    <tr>\n",
       "      <th>4</th>\n",
       "      <td>20.2900</td>\n",
       "      <td>14.3400</td>\n",
       "      <td>135.1000</td>\n",
       "      <td>1297.0000</td>\n",
       "      <td>0.1003</td>\n",
       "      <td>0.1328</td>\n",
       "      <td>0.1980</td>\n",
       "      <td>0.1043</td>\n",
       "      <td>0.1809</td>\n",
       "      <td>0.0588</td>\n",
       "      <td>0.7572</td>\n",
       "      <td>0.7813</td>\n",
       "      <td>5.4380</td>\n",
       "      <td>94.4400</td>\n",
       "      <td>0.0115</td>\n",
       "      <td>0.0246</td>\n",
       "      <td>0.0569</td>\n",
       "      <td>0.0188</td>\n",
       "      <td>0.0176</td>\n",
       "      <td>0.0051</td>\n",
       "      <td>22.5400</td>\n",
       "      <td>16.6700</td>\n",
       "      <td>152.2000</td>\n",
       "      <td>1575.0000</td>\n",
       "      <td>0.1374</td>\n",
       "      <td>0.2050</td>\n",
       "      <td>0.4000</td>\n",
       "      <td>0.1625</td>\n",
       "      <td>0.2364</td>\n",
       "      <td>0.0768</td>\n",
       "    </tr>\n",
       "  </tbody>\n",
       "</table>\n",
       "</div>"
      ],
      "text/plain": [
       "   mean radius  mean texture  mean perimeter  mean area  mean smoothness  \\\n",
       "0      17.9900       10.3800        122.8000  1001.0000           0.1184   \n",
       "1      20.5700       17.7700        132.9000  1326.0000           0.0847   \n",
       "2      19.6900       21.2500        130.0000  1203.0000           0.1096   \n",
       "3      11.4200       20.3800         77.5800   386.1000           0.1425   \n",
       "4      20.2900       14.3400        135.1000  1297.0000           0.1003   \n",
       "\n",
       "   mean compactness  mean concavity  mean concave points  mean symmetry  \\\n",
       "0            0.2776          0.3001               0.1471         0.2419   \n",
       "1            0.0786          0.0869               0.0702         0.1812   \n",
       "2            0.1599          0.1974               0.1279         0.2069   \n",
       "3            0.2839          0.2414               0.1052         0.2597   \n",
       "4            0.1328          0.1980               0.1043         0.1809   \n",
       "\n",
       "   mean fractal dimension  radius error  texture error  perimeter error  \\\n",
       "0                  0.0787        1.0950         0.9053           8.5890   \n",
       "1                  0.0567        0.5435         0.7339           3.3980   \n",
       "2                  0.0600        0.7456         0.7869           4.5850   \n",
       "3                  0.0974        0.4956         1.1560           3.4450   \n",
       "4                  0.0588        0.7572         0.7813           5.4380   \n",
       "\n",
       "   area error  smoothness error  compactness error  concavity error  \\\n",
       "0    153.4000            0.0064             0.0490           0.0537   \n",
       "1     74.0800            0.0052             0.0131           0.0186   \n",
       "2     94.0300            0.0062             0.0401           0.0383   \n",
       "3     27.2300            0.0091             0.0746           0.0566   \n",
       "4     94.4400            0.0115             0.0246           0.0569   \n",
       "\n",
       "   concave points error  symmetry error  fractal dimension error  \\\n",
       "0                0.0159          0.0300                   0.0062   \n",
       "1                0.0134          0.0139                   0.0035   \n",
       "2                0.0206          0.0225                   0.0046   \n",
       "3                0.0187          0.0596                   0.0092   \n",
       "4                0.0188          0.0176                   0.0051   \n",
       "\n",
       "   worst radius  worst texture  worst perimeter  worst area  worst smoothness  \\\n",
       "0       25.3800        17.3300         184.6000   2019.0000            0.1622   \n",
       "1       24.9900        23.4100         158.8000   1956.0000            0.1238   \n",
       "2       23.5700        25.5300         152.5000   1709.0000            0.1444   \n",
       "3       14.9100        26.5000          98.8700    567.7000            0.2098   \n",
       "4       22.5400        16.6700         152.2000   1575.0000            0.1374   \n",
       "\n",
       "   worst compactness  worst concavity  worst concave points  worst symmetry  \\\n",
       "0             0.6656           0.7119                0.2654          0.4601   \n",
       "1             0.1866           0.2416                0.1860          0.2750   \n",
       "2             0.4245           0.4504                0.2430          0.3613   \n",
       "3             0.8663           0.6869                0.2575          0.6638   \n",
       "4             0.2050           0.4000                0.1625          0.2364   \n",
       "\n",
       "   worst fractal dimension  \n",
       "0                   0.1189  \n",
       "1                   0.0890  \n",
       "2                   0.0876  \n",
       "3                   0.1730  \n",
       "4                   0.0768  "
      ]
     },
     "metadata": {},
     "output_type": "display_data"
    },
    {
     "data": {
      "text/html": [
       "<div>\n",
       "<style scoped>\n",
       "    .dataframe tbody tr th:only-of-type {\n",
       "        vertical-align: middle;\n",
       "    }\n",
       "\n",
       "    .dataframe tbody tr th {\n",
       "        vertical-align: top;\n",
       "    }\n",
       "\n",
       "    .dataframe thead th {\n",
       "        text-align: right;\n",
       "    }\n",
       "</style>\n",
       "<table border=\"1\" class=\"dataframe\">\n",
       "  <thead>\n",
       "    <tr style=\"text-align: right;\">\n",
       "      <th></th>\n",
       "      <th>mean radius</th>\n",
       "      <th>mean texture</th>\n",
       "      <th>mean perimeter</th>\n",
       "      <th>mean area</th>\n",
       "      <th>mean smoothness</th>\n",
       "      <th>mean compactness</th>\n",
       "      <th>mean concavity</th>\n",
       "      <th>mean concave points</th>\n",
       "      <th>mean symmetry</th>\n",
       "      <th>mean fractal dimension</th>\n",
       "      <th>radius error</th>\n",
       "      <th>texture error</th>\n",
       "      <th>perimeter error</th>\n",
       "      <th>area error</th>\n",
       "      <th>smoothness error</th>\n",
       "      <th>compactness error</th>\n",
       "      <th>concavity error</th>\n",
       "      <th>concave points error</th>\n",
       "      <th>symmetry error</th>\n",
       "      <th>fractal dimension error</th>\n",
       "      <th>worst radius</th>\n",
       "      <th>worst texture</th>\n",
       "      <th>worst perimeter</th>\n",
       "      <th>worst area</th>\n",
       "      <th>worst smoothness</th>\n",
       "      <th>worst compactness</th>\n",
       "      <th>worst concavity</th>\n",
       "      <th>worst concave points</th>\n",
       "      <th>worst symmetry</th>\n",
       "      <th>worst fractal dimension</th>\n",
       "    </tr>\n",
       "  </thead>\n",
       "  <tbody>\n",
       "    <tr>\n",
       "      <th>19</th>\n",
       "      <td>13.5400</td>\n",
       "      <td>14.3600</td>\n",
       "      <td>87.4600</td>\n",
       "      <td>566.3000</td>\n",
       "      <td>0.0978</td>\n",
       "      <td>0.0813</td>\n",
       "      <td>0.0666</td>\n",
       "      <td>0.0478</td>\n",
       "      <td>0.1885</td>\n",
       "      <td>0.0577</td>\n",
       "      <td>0.2699</td>\n",
       "      <td>0.7886</td>\n",
       "      <td>2.0580</td>\n",
       "      <td>23.5600</td>\n",
       "      <td>0.0085</td>\n",
       "      <td>0.0146</td>\n",
       "      <td>0.0239</td>\n",
       "      <td>0.0132</td>\n",
       "      <td>0.0198</td>\n",
       "      <td>0.0023</td>\n",
       "      <td>15.1100</td>\n",
       "      <td>19.2600</td>\n",
       "      <td>99.7000</td>\n",
       "      <td>711.2000</td>\n",
       "      <td>0.1440</td>\n",
       "      <td>0.1773</td>\n",
       "      <td>0.2390</td>\n",
       "      <td>0.1288</td>\n",
       "      <td>0.2977</td>\n",
       "      <td>0.0726</td>\n",
       "    </tr>\n",
       "    <tr>\n",
       "      <th>20</th>\n",
       "      <td>13.0800</td>\n",
       "      <td>15.7100</td>\n",
       "      <td>85.6300</td>\n",
       "      <td>520.0000</td>\n",
       "      <td>0.1075</td>\n",
       "      <td>0.1270</td>\n",
       "      <td>0.0457</td>\n",
       "      <td>0.0311</td>\n",
       "      <td>0.1967</td>\n",
       "      <td>0.0681</td>\n",
       "      <td>0.1852</td>\n",
       "      <td>0.7477</td>\n",
       "      <td>1.3830</td>\n",
       "      <td>14.6700</td>\n",
       "      <td>0.0041</td>\n",
       "      <td>0.0190</td>\n",
       "      <td>0.0170</td>\n",
       "      <td>0.0065</td>\n",
       "      <td>0.0168</td>\n",
       "      <td>0.0024</td>\n",
       "      <td>14.5000</td>\n",
       "      <td>20.4900</td>\n",
       "      <td>96.0900</td>\n",
       "      <td>630.5000</td>\n",
       "      <td>0.1312</td>\n",
       "      <td>0.2776</td>\n",
       "      <td>0.1890</td>\n",
       "      <td>0.0728</td>\n",
       "      <td>0.3184</td>\n",
       "      <td>0.0818</td>\n",
       "    </tr>\n",
       "    <tr>\n",
       "      <th>21</th>\n",
       "      <td>9.5040</td>\n",
       "      <td>12.4400</td>\n",
       "      <td>60.3400</td>\n",
       "      <td>273.9000</td>\n",
       "      <td>0.1024</td>\n",
       "      <td>0.0649</td>\n",
       "      <td>0.0296</td>\n",
       "      <td>0.0208</td>\n",
       "      <td>0.1815</td>\n",
       "      <td>0.0691</td>\n",
       "      <td>0.2773</td>\n",
       "      <td>0.9768</td>\n",
       "      <td>1.9090</td>\n",
       "      <td>15.7000</td>\n",
       "      <td>0.0096</td>\n",
       "      <td>0.0143</td>\n",
       "      <td>0.0198</td>\n",
       "      <td>0.0142</td>\n",
       "      <td>0.0203</td>\n",
       "      <td>0.0030</td>\n",
       "      <td>10.2300</td>\n",
       "      <td>15.6600</td>\n",
       "      <td>65.1300</td>\n",
       "      <td>314.9000</td>\n",
       "      <td>0.1324</td>\n",
       "      <td>0.1148</td>\n",
       "      <td>0.0887</td>\n",
       "      <td>0.0623</td>\n",
       "      <td>0.2450</td>\n",
       "      <td>0.0777</td>\n",
       "    </tr>\n",
       "    <tr>\n",
       "      <th>37</th>\n",
       "      <td>13.0300</td>\n",
       "      <td>18.4200</td>\n",
       "      <td>82.6100</td>\n",
       "      <td>523.8000</td>\n",
       "      <td>0.0898</td>\n",
       "      <td>0.0377</td>\n",
       "      <td>0.0256</td>\n",
       "      <td>0.0292</td>\n",
       "      <td>0.1467</td>\n",
       "      <td>0.0586</td>\n",
       "      <td>0.1839</td>\n",
       "      <td>2.3420</td>\n",
       "      <td>1.1700</td>\n",
       "      <td>14.1600</td>\n",
       "      <td>0.0044</td>\n",
       "      <td>0.0049</td>\n",
       "      <td>0.0134</td>\n",
       "      <td>0.0116</td>\n",
       "      <td>0.0267</td>\n",
       "      <td>0.0018</td>\n",
       "      <td>13.3000</td>\n",
       "      <td>22.8100</td>\n",
       "      <td>84.4600</td>\n",
       "      <td>545.9000</td>\n",
       "      <td>0.0970</td>\n",
       "      <td>0.0462</td>\n",
       "      <td>0.0483</td>\n",
       "      <td>0.0501</td>\n",
       "      <td>0.1987</td>\n",
       "      <td>0.0617</td>\n",
       "    </tr>\n",
       "    <tr>\n",
       "      <th>46</th>\n",
       "      <td>8.1960</td>\n",
       "      <td>16.8400</td>\n",
       "      <td>51.7100</td>\n",
       "      <td>201.9000</td>\n",
       "      <td>0.0860</td>\n",
       "      <td>0.0594</td>\n",
       "      <td>0.0159</td>\n",
       "      <td>0.0059</td>\n",
       "      <td>0.1769</td>\n",
       "      <td>0.0650</td>\n",
       "      <td>0.1563</td>\n",
       "      <td>0.9567</td>\n",
       "      <td>1.0940</td>\n",
       "      <td>8.2050</td>\n",
       "      <td>0.0090</td>\n",
       "      <td>0.0165</td>\n",
       "      <td>0.0159</td>\n",
       "      <td>0.0059</td>\n",
       "      <td>0.0257</td>\n",
       "      <td>0.0026</td>\n",
       "      <td>8.9640</td>\n",
       "      <td>21.9600</td>\n",
       "      <td>57.2600</td>\n",
       "      <td>242.2000</td>\n",
       "      <td>0.1297</td>\n",
       "      <td>0.1357</td>\n",
       "      <td>0.0688</td>\n",
       "      <td>0.0256</td>\n",
       "      <td>0.3105</td>\n",
       "      <td>0.0741</td>\n",
       "    </tr>\n",
       "  </tbody>\n",
       "</table>\n",
       "</div>"
      ],
      "text/plain": [
       "    mean radius  mean texture  mean perimeter  mean area  mean smoothness  \\\n",
       "19      13.5400       14.3600         87.4600   566.3000           0.0978   \n",
       "20      13.0800       15.7100         85.6300   520.0000           0.1075   \n",
       "21       9.5040       12.4400         60.3400   273.9000           0.1024   \n",
       "37      13.0300       18.4200         82.6100   523.8000           0.0898   \n",
       "46       8.1960       16.8400         51.7100   201.9000           0.0860   \n",
       "\n",
       "    mean compactness  mean concavity  mean concave points  mean symmetry  \\\n",
       "19            0.0813          0.0666               0.0478         0.1885   \n",
       "20            0.1270          0.0457               0.0311         0.1967   \n",
       "21            0.0649          0.0296               0.0208         0.1815   \n",
       "37            0.0377          0.0256               0.0292         0.1467   \n",
       "46            0.0594          0.0159               0.0059         0.1769   \n",
       "\n",
       "    mean fractal dimension  radius error  texture error  perimeter error  \\\n",
       "19                  0.0577        0.2699         0.7886           2.0580   \n",
       "20                  0.0681        0.1852         0.7477           1.3830   \n",
       "21                  0.0691        0.2773         0.9768           1.9090   \n",
       "37                  0.0586        0.1839         2.3420           1.1700   \n",
       "46                  0.0650        0.1563         0.9567           1.0940   \n",
       "\n",
       "    area error  smoothness error  compactness error  concavity error  \\\n",
       "19     23.5600            0.0085             0.0146           0.0239   \n",
       "20     14.6700            0.0041             0.0190           0.0170   \n",
       "21     15.7000            0.0096             0.0143           0.0198   \n",
       "37     14.1600            0.0044             0.0049           0.0134   \n",
       "46      8.2050            0.0090             0.0165           0.0159   \n",
       "\n",
       "    concave points error  symmetry error  fractal dimension error  \\\n",
       "19                0.0132          0.0198                   0.0023   \n",
       "20                0.0065          0.0168                   0.0024   \n",
       "21                0.0142          0.0203                   0.0030   \n",
       "37                0.0116          0.0267                   0.0018   \n",
       "46                0.0059          0.0257                   0.0026   \n",
       "\n",
       "    worst radius  worst texture  worst perimeter  worst area  \\\n",
       "19       15.1100        19.2600          99.7000    711.2000   \n",
       "20       14.5000        20.4900          96.0900    630.5000   \n",
       "21       10.2300        15.6600          65.1300    314.9000   \n",
       "37       13.3000        22.8100          84.4600    545.9000   \n",
       "46        8.9640        21.9600          57.2600    242.2000   \n",
       "\n",
       "    worst smoothness  worst compactness  worst concavity  \\\n",
       "19            0.1440             0.1773           0.2390   \n",
       "20            0.1312             0.2776           0.1890   \n",
       "21            0.1324             0.1148           0.0887   \n",
       "37            0.0970             0.0462           0.0483   \n",
       "46            0.1297             0.1357           0.0688   \n",
       "\n",
       "    worst concave points  worst symmetry  worst fractal dimension  \n",
       "19                0.1288          0.2977                   0.0726  \n",
       "20                0.0728          0.3184                   0.0818  \n",
       "21                0.0623          0.2450                   0.0777  \n",
       "37                0.0501          0.1987                   0.0617  \n",
       "46                0.0256          0.3105                   0.0741  "
      ]
     },
     "metadata": {},
     "output_type": "display_data"
    }
   ],
   "source": [
    "# 산포도를 그리기 위한 준비\n",
    "# 입력 데이터를 대응하는 정답 데이터의 값에 따라 분할한다\n",
    "\n",
    "# 정답 데이터 = 0(악성)인 데이터 골라내기\n",
    "df0 = df[y==0]\n",
    "\n",
    "# 정답 데이터 = 1(양성)인 데이터 골라내기\n",
    "df1 = df[y==1]\n",
    "\n",
    "display(df0.head())\n",
    "display(df1.head())"
   ]
  },
  {
   "cell_type": "code",
   "execution_count": 88,
   "metadata": {
    "colab": {},
    "colab_type": "code",
    "id": "pCm4vGsw-kOG"
   },
   "outputs": [
    {
     "data": {
      "image/png": "[encoded data removed]",
      "text/plain": [
       "<Figure size 600x600 with 1 Axes>"
      ]
     },
     "metadata": {},
     "output_type": "display_data"
    }
   ],
   "source": [
    "\n",
    "\n",
    "# 산포도 그리기\n",
    "\n",
    "# 그래프의 크기를 설정\n",
    "plt.figure(figsize=(6,6))\n",
    "\n",
    "# 목적변수 값이 1인 데이터의 산포도 그리기\n",
    "plt.scatter(df0['mean radius'], df0['mean texture'], marker='x',\n",
    "    c='r', label='악성')\n",
    "\n",
    "# 목적변수 값이 1인 데이터의 산포도 그리기\n",
    "plt.scatter(df1['mean radius'], df1['mean texture'], marker='s',\n",
    "    c='b', label='양성')\n",
    "\n",
    "# 그리드 표시\n",
    "plt.grid()\n",
    "\n",
    "# 레이블 표시\n",
    "plt.xlabel('반지름_평균')\n",
    "plt.ylabel('텍스처_평균')\n",
    "\n",
    "# 범례 그리기\n",
    "plt.legend()\n",
    "\n",
    "# 화면에 전체 그래프를 출력\n",
    "plt.show()\n",
    "\n",
    "\n"
   ]
  },
  {
   "attachments": {},
   "cell_type": "markdown",
   "metadata": {
    "colab_type": "text",
    "id": "aqIx-ZNmau5R"
   },
   "source": [
    "### 3.3.3 (3) 데이터 전처리"
   ]
  },
  {
   "cell_type": "code",
   "execution_count": 89,
   "metadata": {
    "colab": {},
    "colab_type": "code",
    "id": "95nHMEf_xd6g"
   },
   "outputs": [
    {
     "data": {
      "text/html": [
       "<div>\n",
       "<style scoped>\n",
       "    .dataframe tbody tr th:only-of-type {\n",
       "        vertical-align: middle;\n",
       "    }\n",
       "\n",
       "    .dataframe tbody tr th {\n",
       "        vertical-align: top;\n",
       "    }\n",
       "\n",
       "    .dataframe thead th {\n",
       "        text-align: right;\n",
       "    }\n",
       "</style>\n",
       "<table border=\"1\" class=\"dataframe\">\n",
       "  <thead>\n",
       "    <tr style=\"text-align: right;\">\n",
       "      <th></th>\n",
       "      <th>mean radius</th>\n",
       "      <th>mean texture</th>\n",
       "    </tr>\n",
       "  </thead>\n",
       "  <tbody>\n",
       "    <tr>\n",
       "      <th>0</th>\n",
       "      <td>17.9900</td>\n",
       "      <td>10.3800</td>\n",
       "    </tr>\n",
       "    <tr>\n",
       "      <th>1</th>\n",
       "      <td>20.5700</td>\n",
       "      <td>17.7700</td>\n",
       "    </tr>\n",
       "    <tr>\n",
       "      <th>2</th>\n",
       "      <td>19.6900</td>\n",
       "      <td>21.2500</td>\n",
       "    </tr>\n",
       "    <tr>\n",
       "      <th>3</th>\n",
       "      <td>11.4200</td>\n",
       "      <td>20.3800</td>\n",
       "    </tr>\n",
       "    <tr>\n",
       "      <th>4</th>\n",
       "      <td>20.2900</td>\n",
       "      <td>14.3400</td>\n",
       "    </tr>\n",
       "  </tbody>\n",
       "</table>\n",
       "</div>"
      ],
      "text/plain": [
       "   mean radius  mean texture\n",
       "0      17.9900       10.3800\n",
       "1      20.5700       17.7700\n",
       "2      19.6900       21.2500\n",
       "3      11.4200       20.3800\n",
       "4      20.2900       14.3400"
      ]
     },
     "metadata": {},
     "output_type": "display_data"
    }
   ],
   "source": [
    "# 입력 데이터를 두 개의 필드로 줄이기\n",
    "\n",
    "input_columns = ['mean radius', 'mean texture']\n",
    "x = df[input_columns]\n",
    "display(x.head())"
   ]
  },
  {
   "attachments": {},
   "cell_type": "markdown",
   "metadata": {
    "colab_type": "text",
    "id": "EUlb2hLb1qzl"
   },
   "source": [
    "### 3.3.4 (4) 데이터 분할"
   ]
  },
  {
   "cell_type": "code",
   "execution_count": 90,
   "metadata": {
    "colab": {},
    "colab_type": "code",
    "id": "0b9yh-rMNKCL"
   },
   "outputs": [],
   "source": [
    "# 학습 데이터와 검증 데이터 분할하기\n",
    "\n",
    "from sklearn.model_selection import train_test_split\n",
    "x_train, x_test, y_train, y_test = train_test_split(x, y, \n",
    "    train_size=0.7, test_size=0.3, random_state=random_seed)"
   ]
  },
  {
   "cell_type": "code",
   "execution_count": 91,
   "metadata": {
    "colab": {},
    "colab_type": "code",
    "id": "BkHtxn--OEwu"
   },
   "outputs": [
    {
     "name": "stdout",
     "output_type": "stream",
     "text": [
      "(398, 2)\n",
      "(171, 2)\n",
      "(398,)\n",
      "(171,)\n"
     ]
    }
   ],
   "source": [
    "# 분할된 데이터를 확인하기(요소 수)\n",
    "\n",
    "print(x_train.shape)\n",
    "print(x_test.shape)\n",
    "print(y_train.shape)\n",
    "print(y_test.shape)"
   ]
  },
  {
   "cell_type": "code",
   "execution_count": 92,
   "metadata": {
    "colab": {},
    "colab_type": "code",
    "id": "PtJYmh1-jFFP"
   },
   "outputs": [
    {
     "data": {
      "text/html": [
       "<div>\n",
       "<style scoped>\n",
       "    .dataframe tbody tr th:only-of-type {\n",
       "        vertical-align: middle;\n",
       "    }\n",
       "\n",
       "    .dataframe tbody tr th {\n",
       "        vertical-align: top;\n",
       "    }\n",
       "\n",
       "    .dataframe thead th {\n",
       "        text-align: right;\n",
       "    }\n",
       "</style>\n",
       "<table border=\"1\" class=\"dataframe\">\n",
       "  <thead>\n",
       "    <tr style=\"text-align: right;\">\n",
       "      <th></th>\n",
       "      <th>mean radius</th>\n",
       "      <th>mean texture</th>\n",
       "    </tr>\n",
       "  </thead>\n",
       "  <tbody>\n",
       "    <tr>\n",
       "      <th>559</th>\n",
       "      <td>11.5100</td>\n",
       "      <td>23.9300</td>\n",
       "    </tr>\n",
       "    <tr>\n",
       "      <th>295</th>\n",
       "      <td>13.7700</td>\n",
       "      <td>13.2700</td>\n",
       "    </tr>\n",
       "    <tr>\n",
       "      <th>264</th>\n",
       "      <td>17.1900</td>\n",
       "      <td>22.0700</td>\n",
       "    </tr>\n",
       "    <tr>\n",
       "      <th>125</th>\n",
       "      <td>13.8500</td>\n",
       "      <td>17.2100</td>\n",
       "    </tr>\n",
       "    <tr>\n",
       "      <th>280</th>\n",
       "      <td>19.1600</td>\n",
       "      <td>26.6000</td>\n",
       "    </tr>\n",
       "  </tbody>\n",
       "</table>\n",
       "</div>"
      ],
      "text/plain": [
       "     mean radius  mean texture\n",
       "559      11.5100       23.9300\n",
       "295      13.7700       13.2700\n",
       "264      17.1900       22.0700\n",
       "125      13.8500       17.2100\n",
       "280      19.1600       26.6000"
      ]
     },
     "metadata": {},
     "output_type": "display_data"
    },
    {
     "data": {
      "text/html": [
       "<div>\n",
       "<style scoped>\n",
       "    .dataframe tbody tr th:only-of-type {\n",
       "        vertical-align: middle;\n",
       "    }\n",
       "\n",
       "    .dataframe tbody tr th {\n",
       "        vertical-align: top;\n",
       "    }\n",
       "\n",
       "    .dataframe thead th {\n",
       "        text-align: right;\n",
       "    }\n",
       "</style>\n",
       "<table border=\"1\" class=\"dataframe\">\n",
       "  <thead>\n",
       "    <tr style=\"text-align: right;\">\n",
       "      <th></th>\n",
       "      <th>mean radius</th>\n",
       "      <th>mean texture</th>\n",
       "    </tr>\n",
       "  </thead>\n",
       "  <tbody>\n",
       "    <tr>\n",
       "      <th>333</th>\n",
       "      <td>11.2500</td>\n",
       "      <td>14.7800</td>\n",
       "    </tr>\n",
       "    <tr>\n",
       "      <th>273</th>\n",
       "      <td>9.7420</td>\n",
       "      <td>15.6700</td>\n",
       "    </tr>\n",
       "    <tr>\n",
       "      <th>201</th>\n",
       "      <td>17.5400</td>\n",
       "      <td>19.3200</td>\n",
       "    </tr>\n",
       "    <tr>\n",
       "      <th>178</th>\n",
       "      <td>13.0100</td>\n",
       "      <td>22.2200</td>\n",
       "    </tr>\n",
       "    <tr>\n",
       "      <th>85</th>\n",
       "      <td>18.4600</td>\n",
       "      <td>18.5200</td>\n",
       "    </tr>\n",
       "  </tbody>\n",
       "</table>\n",
       "</div>"
      ],
      "text/plain": [
       "     mean radius  mean texture\n",
       "333      11.2500       14.7800\n",
       "273       9.7420       15.6700\n",
       "201      17.5400       19.3200\n",
       "178      13.0100       22.2200\n",
       "85       18.4600       18.5200"
      ]
     },
     "metadata": {},
     "output_type": "display_data"
    },
    {
     "data": {
      "text/plain": [
       "559    1\n",
       "295    1\n",
       "264    0\n",
       "125    1\n",
       "280    0\n",
       "dtype: int64"
      ]
     },
     "metadata": {},
     "output_type": "display_data"
    },
    {
     "data": {
      "text/plain": [
       "333    1\n",
       "273    1\n",
       "201    0\n",
       "178    1\n",
       "85     0\n",
       "dtype: int64"
      ]
     },
     "metadata": {},
     "output_type": "display_data"
    }
   ],
   "source": [
    "# 분할된 데이터를 확인하기(요소 수)\n",
    "\n",
    "display(x_train.head())\n",
    "display(x_test.head())\n",
    "display(y_train.head())\n",
    "display(y_test.head())"
   ]
  },
  {
   "attachments": {},
   "cell_type": "markdown",
   "metadata": {
    "colab_type": "text",
    "id": "8xpwIVSZbKFS"
   },
   "source": [
    "### 3.3.5 (5) 알고리즘 선택하기"
   ]
  },
  {
   "cell_type": "code",
   "execution_count": 93,
   "metadata": {
    "colab": {},
    "colab_type": "code",
    "id": "38pyzBSA-sZo"
   },
   "outputs": [],
   "source": [
    "# 알고리즘 선택\n",
    "\n",
    "from sklearn.linear_model import LogisticRegression\n",
    "algorithm = LogisticRegression(random_state=random_seed)"
   ]
  },
  {
   "attachments": {},
   "cell_type": "markdown",
   "metadata": {
    "colab_type": "text",
    "id": "Sw1ksbvj1qzx"
   },
   "source": [
    "### 3.3.6 (6) 학습"
   ]
  },
  {
   "cell_type": "code",
   "execution_count": 94,
   "metadata": {
    "colab": {},
    "colab_type": "code",
    "id": "KgGL_5uxbsnG"
   },
   "outputs": [
    {
     "name": "stdout",
     "output_type": "stream",
     "text": [
      "{'C': 1.0, 'class_weight': None, 'dual': False, 'fit_intercept': True, 'intercept_scaling': 1, 'l1_ratio': None, 'max_iter': 100, 'multi_class': 'auto', 'n_jobs': None, 'penalty': 'l2', 'random_state': 123, 'solver': 'lbfgs', 'tol': 0.0001, 'verbose': 0, 'warm_start': False}\n"
     ]
    }
   ],
   "source": [
    "# 학습\n",
    "\n",
    "algorithm.fit(x_train, y_train)\n",
    "#print(algorithm)\n",
    "print(algorithm.get_params())"
   ]
  },
  {
   "attachments": {},
   "cell_type": "markdown",
   "metadata": {
    "colab_type": "text",
    "id": "YXLsnizH1qzz"
   },
   "source": [
    "### 3.3.7 (7) 예측"
   ]
  },
  {
   "cell_type": "code",
   "execution_count": 95,
   "metadata": {
    "colab": {},
    "colab_type": "code",
    "id": "YyBEtP_EEBz9"
   },
   "outputs": [
    {
     "name": "stdout",
     "output_type": "stream",
     "text": [
      "[1 1 0 1 0 1 1 1 1 1 1 0 1 1 0 1 1 1 1 1 0 1 1 1 1 0 0 1 0 1 1 1 1 1 0 1 1\n",
      " 1 1 0 0 1 1 1 0 1 0 0 0 1 1 0 1 1 1 0 1 0 0 1 0 1 1 1 1 0 1 1 1 1 1 1 1 1\n",
      " 0 1 1 0 0 0 1 0 0 1 1 1 0 1 0 1 1 1 1 0 1 1 1 1 1 1 1 1 1 1 1 1 1 1 1 1 1\n",
      " 1 1 0 1 0 1 0 1 1 0 1 1 1 0 1 1 1 1 1 0 1 1 1 0 1 1 1 0 0 0 1 0 1 0 1 1 0\n",
      " 1 0 1 1 1 1 1 1 0 0 0 1 1 1 1 0 1 1 1 0 0 0 1]\n"
     ]
    }
   ],
   "source": [
    "# 예측\n",
    "\n",
    "# predict 함수를 호출한다\n",
    "y_pred = algorithm.predict(x_test)\n",
    "\n",
    "# 예측 결과를 확인\n",
    "print(y_pred)"
   ]
  },
  {
   "attachments": {},
   "cell_type": "markdown",
   "metadata": {
    "colab_type": "text",
    "id": "B0SoYJcp1qz3"
   },
   "source": [
    "### 3.3.8 (8) 평가"
   ]
  },
  {
   "cell_type": "code",
   "execution_count": 96,
   "metadata": {
    "colab": {},
    "colab_type": "code",
    "id": "sE0vi8a6A0VM"
   },
   "outputs": [
    {
     "name": "stdout",
     "output_type": "stream",
     "text": [
      "[1 1 0 1 0 1 1 0 1 1]\n",
      "[1 1 0 1 0 1 1 1 1 1]\n"
     ]
    }
   ],
   "source": [
    "# 정답 데이터와 예측 결과 비교하기\n",
    "\n",
    "# 정답 데이터를 앞에서부터 10건 추려냄\n",
    "# y_test는 데이터프레임이므로 value 속성에 담긴 넘파이 배열로 변환한다\n",
    "y_test10 = y_test[:10].values\n",
    "print(y_test10)\n",
    "\n",
    "# 예측 결과를 앞에서부터 10건 추려냄\n",
    "y_pred10 = y_pred[:10]\n",
    "print(y_pred10)"
   ]
  },
  {
   "cell_type": "code",
   "execution_count": 97,
   "metadata": {
    "colab": {},
    "colab_type": "code",
    "id": "leq0Iov-Gr-T"
   },
   "outputs": [
    {
     "name": "stdout",
     "output_type": "stream",
     "text": [
      "[ True  True  True  True  True  True  True False  True  True]\n",
      "9\n"
     ]
    }
   ],
   "source": [
    "# 정답을 맞힌 건수 세기\n",
    "\n",
    "# 정답 데이터 == 예측 결과　\n",
    "w1 = (y_test10 == y_pred10)\n",
    "print(w1)\n",
    "\n",
    "# 정답을 맞힌 건수\n",
    "w2 = w1.sum()\n",
    "print(w2)"
   ]
  },
  {
   "cell_type": "code",
   "execution_count": 98,
   "metadata": {
    "colab": {},
    "colab_type": "code",
    "id": "Wvh2jKELHmHg"
   },
   "outputs": [
    {
     "name": "stdout",
     "output_type": "stream",
     "text": [
      "정확도: 0.8772\n"
     ]
    }
   ],
   "source": [
    "# 정확도 계산하기\n",
    "\n",
    "# 정답을 맞힌 건수를 계산\n",
    "w = (y_test.values == y_pred)\n",
    "correct = w.sum()\n",
    "\n",
    "# 검증 데이터 전체 건수\n",
    "N = len(w)\n",
    "\n",
    "# 정확도 = (정답 수) / (검증 데이터 전체 건수)\n",
    "score = correct / N\n",
    "\n",
    "# 결과를 출력\n",
    "print(f'정확도: {score:.04f}')"
   ]
  },
  {
   "cell_type": "code",
   "execution_count": 99,
   "metadata": {
    "colab": {},
    "colab_type": "code",
    "id": "gUqIk9QtH6pj"
   },
   "outputs": [
    {
     "name": "stdout",
     "output_type": "stream",
     "text": [
      "score: 0.8772\n"
     ]
    }
   ],
   "source": [
    "# score 함수를 사용\n",
    "\n",
    "# score 함수를 사용해도 정확도를 계산할 수 있다\n",
    "score = algorithm.score(x_test, y_test)\n",
    "print(f'score: {score:.04f}')"
   ]
  },
  {
   "attachments": {},
   "cell_type": "markdown",
   "metadata": {
    "colab_type": "text",
    "id": "C_dGu1VG06Yk"
   },
   "source": [
    "### 3.3.9 (9) 튜닝"
   ]
  },
  {
   "cell_type": "code",
   "execution_count": 100,
   "metadata": {
    "colab": {},
    "colab_type": "code",
    "id": "HoFTZxRJ1Aeq"
   },
   "outputs": [
    {
     "name": "stdout",
     "output_type": "stream",
     "text": [
      "score: 0.9649\n"
     ]
    }
   ],
   "source": [
    "# 모델의 정확도 개선하기\n",
    "\n",
    "# 원래 있던 30개 필드를 모두 포함해 학습 데이터와 검증 데이터를 다시 만든다\n",
    "x2_train, x2_test, y_train, y_test = train_test_split(df, y, \n",
    "    train_size=0.7, test_size=0.3, random_state=random_seed)\n",
    "\n",
    "# 로지스틱 회귀 모델도 다시 만든다\n",
    "algorithm2 = LogisticRegression(random_state=random_seed)\n",
    "\n",
    "# 새로 만든 학습 데이터로 학습을 진행한다\n",
    "algorithm2.fit(x2_train, y_train)\n",
    "\n",
    "# 검증 데이터로 정확도를 확인한다\n",
    "score2 = algorithm2.score(x2_test, y_test)\n",
    "print(f'score: {score2:.04f}')"
   ]
  },
  {
   "attachments": {},
   "cell_type": "markdown",
   "metadata": {
    "colab_type": "text",
    "id": "xnkzq46K1q0B"
   },
   "source": [
    "## (보충설명) 결정경계 그리기\n",
    "이 아래의 셀은 결정경계를 그리기 위한 코드와, 해당 구현에 대한 설명을 담고 있다.\n",
    "\n",
    "상당히 어려운 내용이므로, 파이썬에 익숙하지 않은 독자는 건너뛰어도 좋다.\n",
    "\n",
    "파이썬 구현에 관심있는 독자라면 도움이 될 것이다."
   ]
  },
  {
   "attachments": {},
   "cell_type": "markdown",
   "metadata": {
    "colab_type": "text",
    "id": "a9s00TJn1q0C"
   },
   "source": [
    "### 로지스틱 회귀의 내부 구현\n",
    "\n",
    "로지스틱 회귀 모델은 내부적으로 다음과 같이 동작한다.\n",
    "\n",
    "(1) 입력변수를 1차 함수에 입력해 실수값을 구한다.\n",
    "\n",
    "(2) (1)에서 얻은 1차 함수의 함숫값을 시그모이드 함수에 입력해 확률값을 계산한다.\n",
    "\n",
    "(3) 예측결과는 (2)에서 얻은 확률값이 0.5보다 크면 1, 작으면 0이 된다.\n",
    "\n",
    "(1)에서 사용된 1차 함수의 기울기와 절편을 변수 coef_, intercept_로 구할 수 있다.\n",
    "다음 코드는 이러한 성질을 이용해 내부변수 값을 사용한다.\n",
    "\n",
    "그리고 이 모델은 다중분류를 위해 변수의 내부 변수를 저장할 수 있도록 했다.\n",
    "그러므로 2차원 배열이 사용됐지만, 여기서는 이진분류를 적용하므로\n",
    "첫 번째 요소([0])만이 사용된다."
   ]
  },
  {
   "attachments": {},
   "cell_type": "markdown",
   "metadata": {
    "colab_type": "text",
    "id": "RR798xZ61q0C"
   },
   "source": [
    "### 내부변수의 값에 접근하기"
   ]
  },
  {
   "cell_type": "code",
   "execution_count": 101,
   "metadata": {
    "colab": {},
    "colab_type": "code",
    "id": "dDzUoI-j1q0C"
   },
   "outputs": [
    {
     "name": "stdout",
     "output_type": "stream",
     "text": [
      "w0 = 19.6195  w1 = -1.0275  w2 = -0.2151\n"
     ]
    }
   ],
   "source": [
    "# 모델의 내부변수(절편, 계수)값 구하기\n",
    "\n",
    "# x1, x2의 계수\n",
    "w1 = algorithm.coef_[0][0]\n",
    "w2 = algorithm.coef_[0][1]\n",
    "\n",
    "# 절편\n",
    "w0 = algorithm.intercept_[0]\n",
    "\n",
    "# 값 확인하기\n",
    "print(f'w0 = {w0:.4f}  w1 = {w1:.4f}  w2 = {w2:.4f}')"
   ]
  },
  {
   "attachments": {},
   "cell_type": "markdown",
   "metadata": {
    "colab_type": "text",
    "id": "KGo9rmBN1q0F"
   },
   "source": [
    "### boundary 함수의 정의"
   ]
  },
  {
   "attachments": {},
   "cell_type": "markdown",
   "metadata": {
    "colab_type": "text",
    "id": "Cw7089Tt1q0G"
   },
   "source": [
    "위에서 얻은 w0, w1, w2의 값을 사용해 산포도에 결정경계를 그리는 boundary 함수를 정의할 수 있다. 함수의 구현과 이를 유도한 식을 다음 셀에 싣는다."
   ]
  },
  {
   "cell_type": "code",
   "execution_count": 102,
   "metadata": {
    "colab": {},
    "colab_type": "code",
    "id": "GUNtZtbQ1q0G"
   },
   "outputs": [],
   "source": [
    "# 결정경계를 계산하는 함수\n",
    "\n",
    "# 결정경계 계산 함수\n",
    "# 0 = w0 + w1 * x + w2 * y를 y에 대해 풀면\n",
    "# y = -(w0 + w1 * x)/ w2가 된다\n",
    "\n",
    "def boundary(algorithm, x):\n",
    "    w1 = algorithm.coef_[0][0]\n",
    "    w2 = algorithm.coef_[0][1]\n",
    "    w0 = algorithm.intercept_[0]\n",
    "    y = -(w0 + w1 * x)/w2\n",
    "    return y"
   ]
  },
  {
   "attachments": {},
   "cell_type": "markdown",
   "metadata": {
    "colab_type": "text",
    "id": "6cWhsERP1q0J"
   },
   "source": [
    "### 결정경계의 경곗값 계산하기"
   ]
  },
  {
   "attachments": {},
   "cell_type": "markdown",
   "metadata": {
    "colab_type": "text",
    "id": "am0xrlpv1q0J"
   },
   "source": [
    "다음 코드는 위에서 정의한 boundary 함수를 사용해 결정경계를 구성하는 경곗값의 좌표를 구하는 코드다.\n",
    "이와 함께, 데이터가 담긴 데이터프레임에서 최솟값과 최댓값을 구해\n",
    "그래프를 더 보기 좋게 그린다."
   ]
  },
  {
   "cell_type": "code",
   "execution_count": 103,
   "metadata": {
    "colab": {},
    "colab_type": "code",
    "id": "fqVsJ71D1q0J"
   },
   "outputs": [
    {
     "name": "stdout",
     "output_type": "stream",
     "text": [
      "x축 양끝 좌표:  [ 6.981 28.11 ]\n",
      "y축 양끝 좌표:  [ 57.8637 -43.0655]\n",
      "그래프의 y구간:  (9.71, 39.28)\n"
     ]
    }
   ],
   "source": [
    "# 결정경계의 경곗값 계산하기\n",
    "\n",
    "# 결정경계의 x축 양끝 좌표값\n",
    "x_range = np.array((df['mean radius'].min(), df['mean radius'].max()))\n",
    "\n",
    "# 결정경계의 y축 양끝 좌표값\n",
    "y_range = boundary(algorithm, x_range)\n",
    "\n",
    "# y의 최솟값과 최댓값은 산포도의 점으로 결정한다\n",
    "y_lim = (df['mean texture'].min(), df['mean texture'].max())\n",
    "\n",
    "# 결과 확인\n",
    "print('x축 양끝 좌표: ', x_range)\n",
    "print('y축 양끝 좌표: ', y_range)\n",
    "print('그래프의 y구간: ', y_lim)"
   ]
  },
  {
   "attachments": {},
   "cell_type": "markdown",
   "metadata": {
    "colab_type": "text",
    "id": "B168GkhX1q0M"
   },
   "source": [
    "### 산포도와 결정경계 그리기"
   ]
  },
  {
   "attachments": {},
   "cell_type": "markdown",
   "metadata": {
    "colab_type": "text",
    "id": "mJLTtmbA1q0M"
   },
   "source": [
    "모든 준비가 끝났다.\n",
    "다음 코드는 코드 3-8에서 그린 산포도에 지금 계산한 결정경계를 겹쳐 그리는 코드다."
   ]
  },
  {
   "cell_type": "code",
   "execution_count": 105,
   "metadata": {
    "colab": {},
    "colab_type": "code",
    "id": "RdDhJGH91q0N"
   },
   "outputs": [
    {
     "data": {
      "image/png": "[encoded data removed]",
      "text/plain": [
       "<Figure size 600x600 with 1 Axes>"
      ]
     },
     "metadata": {},
     "output_type": "display_data"
    }
   ],
   "source": [
    "# 산포도와 결정경계 그리기\n",
    "\n",
    "# 그래프 크기 정의\n",
    "plt.figure(figsize=(6,6))\n",
    "\n",
    "# 목적변수의 값이 0인 데이터의 산포도\n",
    "plt.scatter(df0['mean radius'], df0['mean texture'], marker='x', c='b', label='악성')\n",
    "\n",
    "# 목적변수의 값이 1인 데이터의 산포도\n",
    "plt.scatter(df1['mean radius'], df1['mean texture'], marker='s', c='k', label='양성')\n",
    "\n",
    "# 결정경계\n",
    "plt.plot(x_range, y_range, c='b', label='결정경계')\n",
    "\n",
    "# 범위 지정\n",
    "plt.ylim(y_lim)\n",
    "\n",
    "# 레이블 추가\n",
    "plt.xlabel('반지름_평균')\n",
    "plt.ylabel('텍스처_평균')\n",
    "\n",
    "# 범례 표시\n",
    "plt.legend()\n",
    "\n",
    "# 그리드 표시\n",
    "plt.grid()\n",
    "\n",
    "# 그래프 화면 출력\n",
    "plt.show()"
   ]
  },
  {
   "cell_type": "code",
   "execution_count": null,
   "metadata": {
    "colab": {},
    "colab_type": "code",
    "id": "HsVKymrC1q0X"
   },
   "outputs": [],
   "source": []
  }
 ],
 "metadata": {
  "colab": {
   "collapsed_sections": [],
   "name": "ch03_03_first_ml.ipynb",
   "provenance": []
  },
  "kernelspec": {
   "display_name": "Python 3",
   "language": "python",
   "name": "python3"
  },
  "language_info": {
   "codemirror_mode": {
    "name": "ipython",
    "version": 3
   },
   "file_extension": ".py",
   "mimetype": "text/x-python",
   "name": "python",
   "nbconvert_exporter": "python",
   "pygments_lexer": "ipython3",
   "version": "3.11.4"
  }
 },
 "nbformat": 4,
 "nbformat_minor": 1
}
